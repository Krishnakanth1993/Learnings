{
  "cells": [
    {
      "cell_type": "markdown",
      "metadata": {
        "id": "view-in-github",
        "colab_type": "text"
      },
      "source": [
        "<a href=\"https://colab.research.google.com/github/Krishnakanth1993/Learnings/blob/main/MNIST_Model/Reference/ERA_Session_5.ipynb\" target=\"_parent\"><img src=\"https://colab.research.google.com/assets/colab-badge.svg\" alt=\"Open In Colab\"/></a>"
      ]
    },
    {
      "cell_type": "code",
      "execution_count": 2,
      "id": "71979988",
      "metadata": {
        "id": "71979988"
      },
      "outputs": [],
      "source": [
        "import torch\n",
        "import torch.nn as nn\n",
        "import torch.nn.functional as F\n",
        "import torch.optim as optim\n",
        "from torch.utils.data import DataLoader, random_split\n",
        "from torchvision import datasets, transforms\n",
        "import matplotlib.pyplot as plt\n",
        "from tqdm import tqdm\n",
        "from torchsummary import summary\n",
        "from io import StringIO\n",
        "import sys"
      ]
    },
    {
      "cell_type": "code",
      "execution_count": 3,
      "id": "8a1e6168",
      "metadata": {
        "colab": {
          "base_uri": "https://localhost:8080/"
        },
        "id": "8a1e6168",
        "outputId": "22f00f00-17b1-4960-a50f-7d39222db6fb"
      },
      "outputs": [
        {
          "output_type": "stream",
          "name": "stdout",
          "text": [
            "CUDA Available? True\n"
          ]
        }
      ],
      "source": [
        "# CUDA?\n",
        "cuda = torch.cuda.is_available()\n",
        "print(\"CUDA Available?\", cuda)"
      ]
    },
    {
      "cell_type": "markdown",
      "id": "fdaddb2b",
      "metadata": {
        "id": "fdaddb2b"
      },
      "source": [
        "# **Understanding the Data**"
      ]
    },
    {
      "cell_type": "code",
      "execution_count": 4,
      "id": "086f9258",
      "metadata": {
        "colab": {
          "base_uri": "https://localhost:8080/"
        },
        "id": "086f9258",
        "outputId": "9d3fe08b-583c-4498-a388-f9e7e35d27cd"
      },
      "outputs": [
        {
          "output_type": "stream",
          "name": "stderr",
          "text": [
            "100%|██████████| 9.91M/9.91M [00:00<00:00, 16.7MB/s]\n",
            "100%|██████████| 28.9k/28.9k [00:00<00:00, 507kB/s]\n",
            "100%|██████████| 1.65M/1.65M [00:00<00:00, 4.62MB/s]\n",
            "100%|██████████| 4.54k/4.54k [00:00<00:00, 10.5MB/s]\n"
          ]
        },
        {
          "output_type": "stream",
          "name": "stdout",
          "text": [
            "Mean: 0.1307, Std: 0.3015 ,Total_images: 60000\n"
          ]
        }
      ],
      "source": [
        "# Load MNIST training data without normalization\n",
        "train_data = datasets.MNIST('../data', train=True, download=True, transform=transforms.ToTensor())\n",
        "train_loader = DataLoader(train_data, batch_size=1024, shuffle=False)\n",
        "\n",
        "# Compute mean and std\n",
        "mean = 0.0\n",
        "std = 0.0\n",
        "total_images = 0\n",
        "\n",
        "for images, _ in train_loader:\n",
        "    batch_samples = images.size(0)  # Number of images in batch\n",
        "    images = images.view(batch_samples, -1)  # Flatten: [batch_size, 1, 28, 28] -> [batch_size, 784]\n",
        "    mean += images.mean(dim=1).sum().item()  # Sum mean across pixels for each image\n",
        "    std += images.std(dim=1).sum().item()  # Sum std across pixels for each image\n",
        "    total_images += batch_samples\n",
        "\n",
        "mean /= total_images\n",
        "std /= total_images\n",
        "\n",
        "print(f'Mean: {mean:.4f}, Std: {std:.4f} ,Total_images: {total_images}')"
      ]
    },
    {
      "cell_type": "code",
      "execution_count": 5,
      "id": "c4eadf10",
      "metadata": {
        "colab": {
          "base_uri": "https://localhost:8080/"
        },
        "id": "c4eadf10",
        "outputId": "cb8f4fc6-786c-4e9e-8887-3ffc46de4edb"
      },
      "outputs": [
        {
          "output_type": "stream",
          "name": "stdout",
          "text": [
            "Shape of a tensor in the batch: torch.Size([1024, 1, 28, 28])\n",
            "Shape of a tensor in the batch: torch.Size([1024])\n"
          ]
        }
      ],
      "source": [
        "dataloader_iterator = iter(train_loader)\n",
        "batch_data = next(dataloader_iterator)\n",
        "\n",
        "for item in batch_data:\n",
        "  if isinstance(item, torch.Tensor):\n",
        "      #print(item)\n",
        "      print(f\"Shape of a tensor in the batch: {item.shape}\")\n",
        "  else:\n",
        "      #print(item)\n",
        "      print(f\"Type of item in batch: {type(item)}\")"
      ]
    },
    {
      "cell_type": "markdown",
      "id": "8c0c326a",
      "metadata": {
        "id": "8c0c326a"
      },
      "source": [
        "# **Data Loading & Preprocessing**"
      ]
    },
    {
      "cell_type": "code",
      "execution_count": 6,
      "id": "fdfd331a",
      "metadata": {
        "id": "fdfd331a"
      },
      "outputs": [],
      "source": [
        "# Train data transformations\n",
        "train_transforms = transforms.Compose([\n",
        "    transforms.RandomApply([transforms.CenterCrop(22), ], p=0.1),\n",
        "    transforms.Resize((28, 28)),\n",
        "    transforms.RandomRotation((-15., 15.), fill=0),\n",
        "    transforms.ToTensor(),\n",
        "    transforms.Normalize((0.1307,), (0.3081,)),\n",
        "    ])\n",
        "\n",
        "val_transforms = transforms.Compose([\n",
        "    transforms.ToTensor(),  # Only ToTensor for validation\n",
        "    transforms.Normalize((0.1307,), (0.3081,)),\n",
        "])\n",
        "\n",
        "# Test data transformations\n",
        "test_transforms = transforms.Compose([\n",
        "    transforms.ToTensor(),\n",
        "    #transforms.Normalize((0.1407,), (0.4081,)) # Mean: 0.1307, Std: 0.3015 ,Total_images: 60000 . Normalization must be uniform between train and test.\n",
        "    transforms.Normalize((0.1307,), (0.3081,)),\n",
        "    ])"
      ]
    },
    {
      "cell_type": "code",
      "execution_count": 19,
      "id": "a055412c",
      "metadata": {
        "id": "a055412c"
      },
      "outputs": [],
      "source": [
        "full_train_data = datasets.MNIST('../data', train=True, download=True, transform=train_transforms)\n",
        "#Split the full train dataset into train and validate (e.g., 50k train, 10k validate)\n",
        "# train_size = 50000\n",
        "# val_size = len(full_train_data) - train_size  # 10000\n",
        "# train_data, val_data = random_split(full_train_data, [train_size, val_size])\n",
        "train_data = full_train_data\n",
        "\n",
        "# Set a seed for reproducibility (optional)\n",
        "torch.manual_seed(42)  # Apply before split if you want consistent results\n",
        "\n",
        "# Apply validation transforms to val_dataset (workaround since random_split inherits train_transforms)\n",
        "val_data.dataset.transform = val_transforms\n",
        "\n",
        "\n",
        "test_data = datasets.MNIST('../data', train=False, download=True, transform=test_transforms)"
      ]
    },
    {
      "cell_type": "code",
      "execution_count": 20,
      "id": "977d3bb5",
      "metadata": {
        "id": "977d3bb5"
      },
      "outputs": [],
      "source": [
        "batch_size = 64\n",
        "\n",
        "kwargs = {'batch_size': batch_size, 'shuffle': True, 'num_workers': 2, 'pin_memory': True}\n",
        "\n",
        "test_loader = torch.utils.data.DataLoader(test_data, **kwargs)\n",
        "val_loader = torch.utils.data.DataLoader(val_data, **kwargs)\n",
        "train_loader = torch.utils.data.DataLoader(train_data, **kwargs)"
      ]
    },
    {
      "cell_type": "code",
      "source": [
        "print(f\"Length of Train dataset:{len(train_loader.dataset)}\")\n",
        "print(f\"Length of Validation dataset:{len(val_loader.dataset)}\")\n",
        "print(f\"Length of Test dataset:{len(test_loader.dataset)}\")"
      ],
      "metadata": {
        "colab": {
          "base_uri": "https://localhost:8080/"
        },
        "id": "rtSDS6gO4ccC",
        "outputId": "6083b370-2a76-407d-a350-c6aa3e62fd8e"
      },
      "id": "rtSDS6gO4ccC",
      "execution_count": 21,
      "outputs": [
        {
          "output_type": "stream",
          "name": "stdout",
          "text": [
            "Length of Train dataset:60000\n",
            "Length of Validation dataset:10000\n",
            "Length of Test dataset:10000\n"
          ]
        }
      ]
    },
    {
      "cell_type": "code",
      "execution_count": 22,
      "id": "e1221165",
      "metadata": {
        "colab": {
          "base_uri": "https://localhost:8080/",
          "height": 463
        },
        "id": "e1221165",
        "outputId": "4a7828c2-f797-49c1-f529-0f6421110aeb"
      },
      "outputs": [
        {
          "output_type": "display_data",
          "data": {
            "text/plain": [
              "<Figure size 640x480 with 12 Axes>"
            ],
            "image/png": "[encoded data removed]"
          },
          "metadata": {}
        }
      ],
      "source": [
        "batch_data, batch_label = next(iter(train_loader))\n",
        "\n",
        "fig = plt.figure()\n",
        "\n",
        "for i in range(12):\n",
        "  plt.subplot(3,4,i+1)\n",
        "  plt.tight_layout()\n",
        "  plt.imshow(batch_data[i].squeeze(0), cmap='gray')\n",
        "  plt.title(batch_label[i].item())\n",
        "  plt.xticks([])\n",
        "  plt.yticks([])"
      ]
    },
    {
      "cell_type": "code",
      "execution_count": 10,
      "id": "f07d7011",
      "metadata": {
        "id": "f07d7011"
      },
      "outputs": [],
      "source": []
    },
    {
      "cell_type": "markdown",
      "id": "aeae542d",
      "metadata": {
        "id": "aeae542d"
      },
      "source": [
        "# **Model Architecture**"
      ]
    },
    {
      "cell_type": "code",
      "execution_count": 34,
      "id": "93a44eee",
      "metadata": {
        "id": "93a44eee",
        "colab": {
          "base_uri": "https://localhost:8080/"
        },
        "outputId": "6946abf2-84bb-49e4-832c-6355e9d815bb"
      },
      "outputs": [
        {
          "output_type": "stream",
          "name": "stdout",
          "text": [
            "----------------------------------------------------------------\n",
            "        Layer (type)               Output Shape         Param #\n",
            "================================================================\n",
            "            Conv2d-1           [-1, 12, 28, 28]             120\n",
            "       BatchNorm2d-2           [-1, 12, 28, 28]              24\n",
            "           Dropout-3           [-1, 12, 28, 28]               0\n",
            "            Conv2d-4           [-1, 12, 28, 28]           1,308\n",
            "       BatchNorm2d-5           [-1, 12, 28, 28]              24\n",
            "           Dropout-6           [-1, 12, 28, 28]               0\n",
            "            Conv2d-7           [-1, 12, 28, 28]           1,308\n",
            "       BatchNorm2d-8           [-1, 12, 28, 28]              24\n",
            "           Dropout-9           [-1, 12, 28, 28]               0\n",
            "           Conv2d-10           [-1, 24, 14, 14]           2,616\n",
            "      BatchNorm2d-11           [-1, 24, 14, 14]              48\n",
            "          Dropout-12           [-1, 24, 14, 14]               0\n",
            "           Conv2d-13           [-1, 24, 14, 14]           5,208\n",
            "      BatchNorm2d-14           [-1, 24, 14, 14]              48\n",
            "          Dropout-15           [-1, 24, 14, 14]               0\n",
            "           Conv2d-16             [-1, 16, 7, 7]           3,472\n",
            "      BatchNorm2d-17             [-1, 16, 7, 7]              32\n",
            "          Dropout-18             [-1, 16, 7, 7]               0\n",
            "           Conv2d-19             [-1, 16, 7, 7]           2,320\n",
            "      BatchNorm2d-20             [-1, 16, 7, 7]              32\n",
            "          Dropout-21             [-1, 16, 7, 7]               0\n",
            "          Dropout-22                   [-1, 16]               0\n",
            "           Linear-23                  [-1, 128]           2,176\n",
            "           Linear-24                   [-1, 10]           1,290\n",
            "================================================================\n",
            "Total params: 20,050\n",
            "Trainable params: 20,050\n",
            "Non-trainable params: 0\n",
            "----------------------------------------------------------------\n",
            "Input size (MB): 0.00\n",
            "Forward/backward pass size (MB): 0.90\n",
            "Params size (MB): 0.08\n",
            "Estimated Total Size (MB): 0.98\n",
            "----------------------------------------------------------------\n",
            "## Model Details\n",
            "\n",
            "- Total Parameter Count: 20050\n",
            "\n",
            "- Use of Batch Normalization: Yes\n",
            "\n",
            "- Use of Dropout: Yes\n",
            "\n",
            "- Use of a Fully Connected Layer or Global Average Pooling: Yes\n",
            "\n"
          ]
        }
      ],
      "source": [
        "class Net(nn.Module):\n",
        "    #This defines the structure of the NN.\n",
        "    def __init__(self, dropout_p=0.5):\n",
        "        super(Net, self).__init__()\n",
        "        self.conv1 = nn.Conv2d(1, 12, kernel_size=3, padding=1) #28x28x1  | (3x3x1)14 | 28x28x14 RF 3x3\n",
        "        self.bn1 = nn.BatchNorm2d(12)\n",
        "        self.conv2 = nn.Conv2d(12, 12, kernel_size=3, padding=1) #28x28x14 | (3x3x14)x14 | 28x28x14 RF 5x5\n",
        "        self.bn2 = nn.BatchNorm2d(12)\n",
        "        self.conv3 = nn.Conv2d(12, 12, kernel_size=3, padding=1) #28x28x14 | (3x3x14)x14 | 28x28x14 RF 7x7\n",
        "        self.bn3 = nn.BatchNorm2d(12)\n",
        "        self.conv4 = nn.Conv2d(12, 24, kernel_size=3, padding=1) #14x14x14  | (3x3x14)x24 | 14x14x24 RF 12x12\n",
        "        self.bn4 = nn.BatchNorm2d(24)\n",
        "        self.conv5 = nn.Conv2d(24,24, kernel_size=3, padding=1) #7x7x16  | (3x3x16)x8 | 7x7x8 RF 24x24\n",
        "        self.bn5 = nn.BatchNorm2d(24)\n",
        "        self.conv6 = nn.Conv2d(24, 16, kernel_size=3, padding=1) #7x7x8 | (3x3x8)x8 | 7x7x8 RF 26x26\n",
        "        self.bn6 = nn.BatchNorm2d(16)\n",
        "        self.conv7 = nn.Conv2d(16, 16, kernel_size=3, padding=1) #7x7x8 | (3x3x8)x8 | 7x7x8 RF 28x28\n",
        "        self.bn7 = nn.BatchNorm2d(16)\n",
        "        self.conv8 = nn.Conv2d(16, 16, kernel_size=3, stride=1, padding=1)\n",
        "        self.bn8 = nn.BatchNorm2d(16)\n",
        "        self.dropout = nn.Dropout(p=dropout_p)  # Dropout layer\n",
        "        self.fc0 = nn.Linear(16, 128)\n",
        "        self.fc1 = nn.Linear(128, 10) #RF 28x28\n",
        "\n",
        "    def forward(self, x):\n",
        "        x = torch.relu(self.bn1(self.conv1(x)))\n",
        "        x = self.dropout(x)\n",
        "        x = torch.relu(self.bn2(self.conv2(x)))\n",
        "        x = self.dropout(x)\n",
        "        x = torch.relu(self.bn3(self.conv3(x)))\n",
        "        x = self.dropout(x)\n",
        "        x = F.max_pool2d(x, 2)\n",
        "\n",
        "        x = torch.relu(self.bn4(self.conv4(x)))\n",
        "        x = self.dropout(x)\n",
        "        x = torch.relu(self.bn5(self.conv5(x)))\n",
        "        x = self.dropout(x)\n",
        "        x = F.max_pool2d(x, 2)\n",
        "\n",
        "        x = torch.relu(self.bn6(self.conv6(x)))\n",
        "        x = self.dropout(x)\n",
        "        x = torch.relu(self.bn7(self.conv7(x)))\n",
        "        x = self.dropout(x)\n",
        "        #x = self.conv8(x)\n",
        "        x = F.avg_pool2d(x, kernel_size=x.size()[2:])  # Global average pooling\n",
        "        x = x.view(x.size(0), -1)  # Flatten\n",
        "        x = self.dropout(x)\n",
        "        x = torch.relu(self.fc0(x))\n",
        "        x = self.fc1(x)\n",
        "        return F.log_softmax(x, dim=1)\n",
        "\n",
        "use_cuda = torch.cuda.is_available()\n",
        "device = torch.device(\"cuda\" if use_cuda else \"cpu\")\n",
        "model = Net().to(device)\n",
        "summary(model, input_size=(1, 28, 28))\n",
        "\n",
        "# Get total parameter count dynamically from summary output\n",
        "\n",
        "# Capture the summary output\n",
        "old_stdout = sys.stdout\n",
        "sys.stdout = captured_output = StringIO()\n",
        "summary(model, input_size=(1, 28, 28))\n",
        "sys.stdout = old_stdout\n",
        "\n",
        "summary_text = captured_output.getvalue()\n",
        "\n",
        "# Parse the summary text to find the total parameters\n",
        "total_params_line = [line for line in summary_text.splitlines() if \"Total params:\" in line]\n",
        "if total_params_line:\n",
        "    total_params_str = total_params_line[0].split(\":\")[1].strip().replace(\",\", \"\")\n",
        "    total_params = int(total_params_str)\n",
        "else:\n",
        "    # Fallback to manual calculation if parsing fails\n",
        "    total_params = sum(p.numel() for p in model.parameters())\n",
        "\n",
        "\n",
        "# Check for Batch Normalization\n",
        "has_batchnorm = any(isinstance(module, nn.BatchNorm2d) for module in model.modules())\n",
        "\n",
        "# Check for Dropout\n",
        "has_dropout = any(isinstance(module, nn.Dropout) for module in model.modules())\n",
        "\n",
        "# Check for Fully Connected Layer or Global Average Pooling\n",
        "has_fc = any(isinstance(module, nn.Linear) for module in model.modules())\n",
        "has_gap = any(isinstance(module, nn.AvgPool2d) or isinstance(module, nn.AdaptiveAvgPool2d) for module in model.modules())\n",
        "\n",
        "print(\"## Model Details\\n\")\n",
        "print(f\"- Total Parameter Count: {total_params}\\n\")\n",
        "print(f\"- Use of Batch Normalization: {'Yes' if has_batchnorm else 'No'}\\n\")\n",
        "print(f\"- Use of Dropout: {'Yes' if has_dropout else 'No'}\\n\")\n",
        "print(f\"- Use of a Fully Connected Layer or Global Average Pooling: {'Yes' if has_fc or has_gap else 'No'}\\n\")"
      ]
    },
    {
      "cell_type": "markdown",
      "id": "d8eab0e3",
      "metadata": {
        "id": "d8eab0e3"
      },
      "source": [
        "# Training Setup"
      ]
    },
    {
      "cell_type": "code",
      "execution_count": 35,
      "id": "df76a833",
      "metadata": {
        "id": "df76a833"
      },
      "outputs": [],
      "source": [
        "# Data to plot accuracy and loss graphs\n",
        "train_losses = []\n",
        "validation_losses = []\n",
        "test_losses = []\n",
        "train_acc = []\n",
        "validation_acc = []\n",
        "test_acc = []\n",
        "\n",
        "test_incorrect_pred = {'images': [], 'ground_truths': [], 'predicted_vals': []}"
      ]
    },
    {
      "cell_type": "code",
      "execution_count": 36,
      "id": "174223af",
      "metadata": {
        "id": "174223af"
      },
      "outputs": [],
      "source": [
        "# Define GetCorrectPredCount\n",
        "def GetCorrectPredCount(pPrediction, pLabels):\n",
        "    return pPrediction.argmax(dim=1).eq(pLabels).sum().item()\n",
        "\n",
        "# Training function\n",
        "def train(model, device, train_loader, optimizer, criterion):\n",
        "    model.train()\n",
        "    pbar = tqdm(train_loader)\n",
        "    train_loss = 0\n",
        "    correct = 0\n",
        "    processed = 0\n",
        "\n",
        "    for batch_idx, (data, target) in enumerate(pbar):\n",
        "        data, target = data.to(device), target.to(device)\n",
        "        optimizer.zero_grad()\n",
        "\n",
        "        # Predict\n",
        "        pred = model(data)\n",
        "\n",
        "        # Calculate loss\n",
        "        loss = criterion(pred, target)  # Shape: [batch_size]\n",
        "        train_loss += loss.sum().item()  # Sum per-sample losses for reporting\n",
        "        loss = loss.mean()  # Average for backpropagation\n",
        "        loss.backward()\n",
        "        optimizer.step()\n",
        "\n",
        "        correct += GetCorrectPredCount(pred, target)\n",
        "        processed += len(data)\n",
        "\n",
        "        pbar.set_description(desc=f'Train: Loss={loss.item():0.4f} Batch_id={batch_idx} Accuracy={100*correct/processed:0.2f}')\n",
        "\n",
        "        train_acc.append(100 * correct / processed)\n",
        "        train_losses.append(train_loss / len(train_loader.dataset))  # Average per sample\n",
        "\n",
        "# Generalized evaluation function for validation or testing\n",
        "def evaluate(model, device, loader, criterion, set_name=\"Test\", losses=None, accuracies=None):\n",
        "    model.eval()\n",
        "    total_loss = 0\n",
        "    correct = 0\n",
        "    total_samples = len(loader.dataset)\n",
        "\n",
        "    with torch.no_grad():\n",
        "        for data, target in loader:\n",
        "            data, target = data.to(device), target.to(device)\n",
        "            output = model(data)\n",
        "            loss = criterion(output, target)  # Per-sample loss\n",
        "            total_loss += loss.sum().item()  # Sum per-sample losses\n",
        "            correct += GetCorrectPredCount(output, target)\n",
        "\n",
        "    avg_loss = total_loss / total_samples\n",
        "    accuracy = 100. * correct / total_samples\n",
        "\n",
        "    # Store metrics if lists are provided\n",
        "    if losses is not None:\n",
        "        losses.append(avg_loss)\n",
        "    if accuracies is not None:\n",
        "        accuracies.append(accuracy)\n",
        "\n",
        "    print(f'{set_name} set: Average loss: {avg_loss:.4f}, Accuracy: {correct}/{total_samples} ({accuracy:.2f}%)')\n",
        "\n",
        "    return avg_loss, accuracy"
      ]
    },
    {
      "cell_type": "code",
      "execution_count": 37,
      "id": "3bd2dd6c",
      "metadata": {
        "colab": {
          "base_uri": "https://localhost:8080/"
        },
        "id": "3bd2dd6c",
        "outputId": "88a44b5a-6d13-4a68-faba-e3c2064af32c"
      },
      "outputs": [
        {
          "output_type": "stream",
          "name": "stdout",
          "text": [
            "Net(\n",
            "  (conv1): Conv2d(1, 12, kernel_size=(3, 3), stride=(1, 1), padding=(1, 1))\n",
            "  (bn1): BatchNorm2d(12, eps=1e-05, momentum=0.1, affine=True, track_running_stats=True)\n",
            "  (conv2): Conv2d(12, 12, kernel_size=(3, 3), stride=(1, 1), padding=(1, 1))\n",
            "  (bn2): BatchNorm2d(12, eps=1e-05, momentum=0.1, affine=True, track_running_stats=True)\n",
            "  (conv3): Conv2d(12, 12, kernel_size=(3, 3), stride=(1, 1), padding=(1, 1))\n",
            "  (bn3): BatchNorm2d(12, eps=1e-05, momentum=0.1, affine=True, track_running_stats=True)\n",
            "  (conv4): Conv2d(12, 24, kernel_size=(3, 3), stride=(1, 1), padding=(1, 1))\n",
            "  (bn4): BatchNorm2d(24, eps=1e-05, momentum=0.1, affine=True, track_running_stats=True)\n",
            "  (conv5): Conv2d(24, 24, kernel_size=(3, 3), stride=(1, 1), padding=(1, 1))\n",
            "  (bn5): BatchNorm2d(24, eps=1e-05, momentum=0.1, affine=True, track_running_stats=True)\n",
            "  (conv6): Conv2d(24, 16, kernel_size=(3, 3), stride=(1, 1), padding=(1, 1))\n",
            "  (bn6): BatchNorm2d(16, eps=1e-05, momentum=0.1, affine=True, track_running_stats=True)\n",
            "  (conv7): Conv2d(16, 16, kernel_size=(3, 3), stride=(1, 1), padding=(1, 1))\n",
            "  (bn7): BatchNorm2d(16, eps=1e-05, momentum=0.1, affine=True, track_running_stats=True)\n",
            "  (conv8): Conv2d(16, 16, kernel_size=(3, 3), stride=(1, 1), padding=(1, 1))\n",
            "  (bn8): BatchNorm2d(16, eps=1e-05, momentum=0.1, affine=True, track_running_stats=True)\n",
            "  (dropout): Dropout(p=0.5, inplace=False)\n",
            "  (fc0): Linear(in_features=16, out_features=128, bias=True)\n",
            "  (fc1): Linear(in_features=128, out_features=10, bias=True)\n",
            ")\n",
            "Epoch 1\n"
          ]
        },
        {
          "output_type": "stream",
          "name": "stderr",
          "text": [
            "Train: Loss=0.1813 Batch_id=937 Accuracy=88.56: 100%|██████████| 938/938 [00:23<00:00, 39.44it/s]\n"
          ]
        },
        {
          "output_type": "stream",
          "name": "stdout",
          "text": [
            "Test set: Average loss: 0.1327, Accuracy: 9602/10000 (96.02%)\n",
            "Epoch 2\n"
          ]
        },
        {
          "output_type": "stream",
          "name": "stderr",
          "text": [
            "Train: Loss=0.0027 Batch_id=937 Accuracy=96.50: 100%|██████████| 938/938 [00:24<00:00, 38.77it/s]\n"
          ]
        },
        {
          "output_type": "stream",
          "name": "stdout",
          "text": [
            "Test set: Average loss: 0.0520, Accuracy: 9848/10000 (98.48%)\n",
            "Epoch 3\n"
          ]
        },
        {
          "output_type": "stream",
          "name": "stderr",
          "text": [
            "Train: Loss=0.1187 Batch_id=937 Accuracy=97.16: 100%|██████████| 938/938 [00:24<00:00, 37.75it/s]\n"
          ]
        },
        {
          "output_type": "stream",
          "name": "stdout",
          "text": [
            "Test set: Average loss: 0.0430, Accuracy: 9881/10000 (98.81%)\n",
            "Epoch 4\n"
          ]
        },
        {
          "output_type": "stream",
          "name": "stderr",
          "text": [
            "Train: Loss=0.0072 Batch_id=937 Accuracy=97.53: 100%|██████████| 938/938 [00:24<00:00, 38.84it/s]\n"
          ]
        },
        {
          "output_type": "stream",
          "name": "stdout",
          "text": [
            "Test set: Average loss: 0.0314, Accuracy: 9897/10000 (98.97%)\n",
            "Epoch 5\n"
          ]
        },
        {
          "output_type": "stream",
          "name": "stderr",
          "text": [
            "Train: Loss=0.1200 Batch_id=937 Accuracy=97.75: 100%|██████████| 938/938 [00:24<00:00, 38.94it/s]\n"
          ]
        },
        {
          "output_type": "stream",
          "name": "stdout",
          "text": [
            "Test set: Average loss: 0.0431, Accuracy: 9874/10000 (98.74%)\n",
            "Epoch 6\n"
          ]
        },
        {
          "output_type": "stream",
          "name": "stderr",
          "text": [
            "Train: Loss=0.1135 Batch_id=937 Accuracy=98.02: 100%|██████████| 938/938 [00:23<00:00, 39.33it/s]\n"
          ]
        },
        {
          "output_type": "stream",
          "name": "stdout",
          "text": [
            "Test set: Average loss: 0.0201, Accuracy: 9939/10000 (99.39%)\n",
            "Epoch 7\n"
          ]
        },
        {
          "output_type": "stream",
          "name": "stderr",
          "text": [
            "Train: Loss=0.1011 Batch_id=937 Accuracy=98.11: 100%|██████████| 938/938 [00:23<00:00, 39.35it/s]\n"
          ]
        },
        {
          "output_type": "stream",
          "name": "stdout",
          "text": [
            "Test set: Average loss: 0.0227, Accuracy: 9938/10000 (99.38%)\n",
            "Epoch 8\n"
          ]
        },
        {
          "output_type": "stream",
          "name": "stderr",
          "text": [
            "Train: Loss=0.1724 Batch_id=937 Accuracy=98.18: 100%|██████████| 938/938 [00:23<00:00, 39.32it/s]\n"
          ]
        },
        {
          "output_type": "stream",
          "name": "stdout",
          "text": [
            "Test set: Average loss: 0.0272, Accuracy: 9912/10000 (99.12%)\n",
            "Epoch 9\n"
          ]
        },
        {
          "output_type": "stream",
          "name": "stderr",
          "text": [
            "Train: Loss=0.0314 Batch_id=937 Accuracy=98.33: 100%|██████████| 938/938 [00:23<00:00, 39.48it/s]\n"
          ]
        },
        {
          "output_type": "stream",
          "name": "stdout",
          "text": [
            "Test set: Average loss: 0.0223, Accuracy: 9931/10000 (99.31%)\n",
            "Epoch 10\n"
          ]
        },
        {
          "output_type": "stream",
          "name": "stderr",
          "text": [
            "Train: Loss=0.0246 Batch_id=937 Accuracy=98.36: 100%|██████████| 938/938 [00:23<00:00, 39.60it/s]\n"
          ]
        },
        {
          "output_type": "stream",
          "name": "stdout",
          "text": [
            "Test set: Average loss: 0.0304, Accuracy: 9910/10000 (99.10%)\n",
            "Epoch 11\n"
          ]
        },
        {
          "output_type": "stream",
          "name": "stderr",
          "text": [
            "Train: Loss=0.0055 Batch_id=937 Accuracy=98.78: 100%|██████████| 938/938 [00:23<00:00, 39.16it/s]\n"
          ]
        },
        {
          "output_type": "stream",
          "name": "stdout",
          "text": [
            "Test set: Average loss: 0.0164, Accuracy: 9949/10000 (99.49%)\n",
            "Epoch 12\n"
          ]
        },
        {
          "output_type": "stream",
          "name": "stderr",
          "text": [
            "Train: Loss=0.1087 Batch_id=937 Accuracy=98.90: 100%|██████████| 938/938 [00:23<00:00, 39.62it/s]\n"
          ]
        },
        {
          "output_type": "stream",
          "name": "stdout",
          "text": [
            "Test set: Average loss: 0.0174, Accuracy: 9948/10000 (99.48%)\n",
            "Epoch 13\n"
          ]
        },
        {
          "output_type": "stream",
          "name": "stderr",
          "text": [
            "Train: Loss=0.0882 Batch_id=937 Accuracy=98.95: 100%|██████████| 938/938 [00:23<00:00, 39.90it/s]\n"
          ]
        },
        {
          "output_type": "stream",
          "name": "stdout",
          "text": [
            "Test set: Average loss: 0.0160, Accuracy: 9953/10000 (99.53%)\n",
            "Epoch 14\n"
          ]
        },
        {
          "output_type": "stream",
          "name": "stderr",
          "text": [
            "Train: Loss=0.0433 Batch_id=937 Accuracy=98.97: 100%|██████████| 938/938 [00:24<00:00, 38.87it/s]\n"
          ]
        },
        {
          "output_type": "stream",
          "name": "stdout",
          "text": [
            "Test set: Average loss: 0.0163, Accuracy: 9950/10000 (99.50%)\n",
            "Epoch 15\n"
          ]
        },
        {
          "output_type": "stream",
          "name": "stderr",
          "text": [
            "Train: Loss=0.2113 Batch_id=937 Accuracy=98.93: 100%|██████████| 938/938 [00:24<00:00, 38.78it/s]\n"
          ]
        },
        {
          "output_type": "stream",
          "name": "stdout",
          "text": [
            "Test set: Average loss: 0.0145, Accuracy: 9955/10000 (99.55%)\n",
            "Epoch 16\n"
          ]
        },
        {
          "output_type": "stream",
          "name": "stderr",
          "text": [
            "Train: Loss=0.0204 Batch_id=937 Accuracy=98.98: 100%|██████████| 938/938 [00:24<00:00, 38.45it/s]\n"
          ]
        },
        {
          "output_type": "stream",
          "name": "stdout",
          "text": [
            "Test set: Average loss: 0.0159, Accuracy: 9952/10000 (99.52%)\n",
            "Epoch 17\n"
          ]
        },
        {
          "output_type": "stream",
          "name": "stderr",
          "text": [
            "Train: Loss=0.0021 Batch_id=937 Accuracy=98.99: 100%|██████████| 938/938 [00:24<00:00, 38.75it/s]\n"
          ]
        },
        {
          "output_type": "stream",
          "name": "stdout",
          "text": [
            "Test set: Average loss: 0.0163, Accuracy: 9951/10000 (99.51%)\n",
            "Epoch 18\n"
          ]
        },
        {
          "output_type": "stream",
          "name": "stderr",
          "text": [
            "Train: Loss=0.3770 Batch_id=937 Accuracy=99.01: 100%|██████████| 938/938 [00:24<00:00, 38.97it/s]\n"
          ]
        },
        {
          "output_type": "stream",
          "name": "stdout",
          "text": [
            "Test set: Average loss: 0.0146, Accuracy: 9952/10000 (99.52%)\n",
            "Epoch 19\n"
          ]
        },
        {
          "output_type": "stream",
          "name": "stderr",
          "text": [
            "Train: Loss=0.0047 Batch_id=937 Accuracy=98.96: 100%|██████████| 938/938 [00:23<00:00, 39.30it/s]\n"
          ]
        },
        {
          "output_type": "stream",
          "name": "stdout",
          "text": [
            "Test set: Average loss: 0.0152, Accuracy: 9951/10000 (99.51%)\n",
            "Epoch 20\n"
          ]
        },
        {
          "output_type": "stream",
          "name": "stderr",
          "text": [
            "Train: Loss=0.0196 Batch_id=937 Accuracy=99.03: 100%|██████████| 938/938 [00:23<00:00, 39.43it/s]\n"
          ]
        },
        {
          "output_type": "stream",
          "name": "stdout",
          "text": [
            "Test set: Average loss: 0.0146, Accuracy: 9956/10000 (99.56%)\n"
          ]
        }
      ],
      "source": [
        "# Setup\n",
        "print (model)\n",
        "device = torch.device('cuda' if torch.cuda.is_available() else 'cpu')\n",
        "model = Net(dropout_p = 0.05).to(device)\n",
        "criterion = nn.CrossEntropyLoss(reduction='none')\n",
        "#optimizer = optim.Adam(model.parameters(), lr=0.1)\n",
        "optimizer = optim.SGD(model.parameters(), lr=0.2 , momentum=0.9)\n",
        "scheduler = optim.lr_scheduler.StepLR(optimizer, step_size=10, gamma=0.1)\n",
        "num_epoch = 20\n",
        "# Training loop for 10 epochs\n",
        "for epoch in range(1, num_epoch+1):\n",
        "    print(f'Epoch {epoch}')\n",
        "    train(model, device, train_loader, optimizer, criterion)\n",
        "    # Validate after each epoch\n",
        "    evaluate(model, device, test_loader, criterion, set_name=\"Test\", losses=test_losses, accuracies=test_acc)\n",
        "    scheduler.step()\n",
        "    # Test at the end\n",
        "    #evaluate(model, device, test_loader, criterion, set_name=\"Test\", losses=test_losses, accuracies=test_acc)"
      ]
    },
    {
      "cell_type": "markdown",
      "id": "72abc083",
      "metadata": {
        "id": "72abc083"
      },
      "source": [
        "# Test Results"
      ]
    },
    {
      "cell_type": "code",
      "execution_count": 28,
      "id": "44b120e0",
      "metadata": {
        "id": "44b120e0",
        "outputId": "28edf802-6633-4560-dd28-3f1930d94d28",
        "colab": {
          "base_uri": "https://localhost:8080/",
          "height": 870
        }
      },
      "outputs": [
        {
          "output_type": "execute_result",
          "data": {
            "text/plain": [
              "Text(0.5, 1.0, 'Validation Accuracy')"
            ]
          },
          "metadata": {},
          "execution_count": 28
        },
        {
          "output_type": "display_data",
          "data": {
            "text/plain": [
              "<Figure size 1500x1000 with 4 Axes>"
            ],
            "image/png": "[encoded data removed]"
          },
          "metadata": {}
        }
      ],
      "source": [
        "\n",
        "fig, axs = plt.subplots(2,2,figsize=(15,10))\n",
        "axs[0, 0].plot(train_losses)\n",
        "axs[0, 0].set_title(\"Training Loss\")\n",
        "axs[1, 0].plot(train_acc)\n",
        "axs[1, 0].set_title(\"Training Accuracy\")\n",
        "axs[0, 1].plot(validation_losses)\n",
        "axs[0, 1].set_title(\"Validation Loss\")\n",
        "axs[1, 1].plot(validation_acc)\n",
        "axs[1, 1].set_title(\"Validation Accuracy\")\n"
      ]
    },
    {
      "cell_type": "code",
      "execution_count": 15,
      "id": "8c17ccfa",
      "metadata": {
        "colab": {
          "base_uri": "https://localhost:8080/"
        },
        "id": "8c17ccfa",
        "outputId": "15ae9f1b-279d-4fef-ac65-a7a04b46d7ce"
      },
      "outputs": [
        {
          "output_type": "stream",
          "name": "stdout",
          "text": [
            "----------------------------------------------------------------\n",
            "        Layer (type)               Output Shape         Param #\n",
            "================================================================\n",
            "            Conv2d-1           [-1, 14, 28, 28]             140\n",
            "       BatchNorm2d-2           [-1, 14, 28, 28]              28\n",
            "           Dropout-3           [-1, 14, 28, 28]               0\n",
            "            Conv2d-4           [-1, 14, 28, 28]           1,778\n",
            "       BatchNorm2d-5           [-1, 14, 28, 28]              28\n",
            "           Dropout-6           [-1, 14, 28, 28]               0\n",
            "            Conv2d-7           [-1, 14, 28, 28]           1,778\n",
            "       BatchNorm2d-8           [-1, 14, 28, 28]              28\n",
            "           Dropout-9           [-1, 14, 28, 28]               0\n",
            "           Conv2d-10           [-1, 24, 14, 14]           3,048\n",
            "      BatchNorm2d-11           [-1, 24, 14, 14]              48\n",
            "          Dropout-12           [-1, 24, 14, 14]               0\n",
            "           Conv2d-13           [-1, 24, 14, 14]           5,208\n",
            "      BatchNorm2d-14           [-1, 24, 14, 14]              48\n",
            "          Dropout-15           [-1, 24, 14, 14]               0\n",
            "           Conv2d-16             [-1, 16, 7, 7]           3,472\n",
            "      BatchNorm2d-17             [-1, 16, 7, 7]              32\n",
            "          Dropout-18             [-1, 16, 7, 7]               0\n",
            "           Conv2d-19             [-1, 16, 7, 7]           2,320\n",
            "      BatchNorm2d-20             [-1, 16, 7, 7]              32\n",
            "          Dropout-21             [-1, 16, 7, 7]               0\n",
            "          Dropout-22                   [-1, 16]               0\n",
            "           Linear-23                   [-1, 50]             850\n",
            "           Linear-24                   [-1, 10]             510\n",
            "================================================================\n",
            "Total params: 19,348\n",
            "Trainable params: 19,348\n",
            "Non-trainable params: 0\n",
            "----------------------------------------------------------------\n",
            "Input size (MB): 0.00\n",
            "Forward/backward pass size (MB): 1.01\n",
            "Params size (MB): 0.07\n",
            "Estimated Total Size (MB): 1.08\n",
            "----------------------------------------------------------------\n"
          ]
        }
      ],
      "source": [
        "\n",
        "use_cuda = torch.cuda.is_available()\n",
        "device = torch.device(\"cuda\" if use_cuda else \"cpu\")\n",
        "model = Net().to(device)\n",
        "summary(model, input_size=(1, 28, 28))"
      ]
    },
    {
      "cell_type": "markdown",
      "id": "191fdfd5",
      "metadata": {
        "id": "191fdfd5"
      },
      "source": [
        "# Save and Visualize Model"
      ]
    },
    {
      "cell_type": "code",
      "execution_count": 16,
      "id": "474c561c",
      "metadata": {
        "id": "474c561c"
      },
      "outputs": [],
      "source": [
        "torch.save(model, \"model.pt\") ## does not include details of activation functions"
      ]
    },
    {
      "cell_type": "code",
      "execution_count": 17,
      "id": "83cfc1e4",
      "metadata": {
        "id": "83cfc1e4",
        "outputId": "477adaf4-f7d4-4ba7-bf4b-b6fce28837e9",
        "colab": {
          "base_uri": "https://localhost:8080/",
          "height": 810
        }
      },
      "outputs": [
        {
          "output_type": "stream",
          "name": "stdout",
          "text": [
            "Collecting onnx\n",
            "  Downloading onnx-1.19.0-cp312-cp312-manylinux2014_x86_64.manylinux_2_17_x86_64.whl.metadata (7.0 kB)\n",
            "Requirement already satisfied: numpy>=1.22 in /usr/local/lib/python3.12/dist-packages (from onnx) (2.0.2)\n",
            "Requirement already satisfied: protobuf>=4.25.1 in /usr/local/lib/python3.12/dist-packages (from onnx) (5.29.5)\n",
            "Requirement already satisfied: typing_extensions>=4.7.1 in /usr/local/lib/python3.12/dist-packages (from onnx) (4.15.0)\n",
            "Requirement already satisfied: ml_dtypes in /usr/local/lib/python3.12/dist-packages (from onnx) (0.5.3)\n",
            "Downloading onnx-1.19.0-cp312-cp312-manylinux2014_x86_64.manylinux_2_17_x86_64.whl (18.2 MB)\n",
            "\u001b[2K   \u001b[90m━━━━━━━━━━━━━━━━━━━━━━━━━━━━━━━━━━━━━━━━\u001b[0m \u001b[32m18.2/18.2 MB\u001b[0m \u001b[31m67.5 MB/s\u001b[0m eta \u001b[36m0:00:00\u001b[0m\n",
            "\u001b[?25hInstalling collected packages: onnx\n",
            "Successfully installed onnx-1.19.0\n"
          ]
        },
        {
          "output_type": "stream",
          "name": "stderr",
          "text": [
            "/tmp/ipython-input-141731322.py:8: DeprecationWarning: You are using the legacy TorchScript-based ONNX export. Starting in PyTorch 2.9, the new torch.export-based ONNX exporter will be the default. To switch now, set dynamo=True in torch.onnx.export. This new exporter supports features like exporting LLMs with DynamicCache. We encourage you to try it and share feedback to help improve the experience. Learn more about the new export logic: https://pytorch.org/docs/stable/onnx_dynamo.html. For exporting control flow: https://pytorch.org/tutorials/beginner/onnx/export_control_flow_model_to_onnx_tutorial.html.\n",
            "  torch.onnx.export(model, dummy_input, \"model.onnx\",\n"
          ]
        },
        {
          "output_type": "error",
          "ename": "SymbolicValueError",
          "evalue": "Failed to export a node '%104 : Long(device=cpu) = onnx::Gather[axis=0](%101, %103), scope: __main__.Net:: # /tmp/ipython-input-355904904.py:45:0\n' (in list node %110 : int[] = prim::ListConstruct(%104, %109), scope: __main__.Net::\n) because it is not constant. Please try to make things (e.g. kernel sizes) static if possible.  [Caused by the value '110 defined in (%110 : int[] = prim::ListConstruct(%104, %109), scope: __main__.Net::\n)' (type 'List[int]') in the TorchScript graph. The containing node has kind 'prim::ListConstruct'.] \n\n    Inputs:\n        #0: 104 defined in (%104 : Long(device=cpu) = onnx::Gather[axis=0](%101, %103), scope: __main__.Net:: # /tmp/ipython-input-355904904.py:45:0\n    )  (type 'Tensor')\n        #1: 109 defined in (%109 : Long(device=cpu) = onnx::Gather[axis=0](%106, %108), scope: __main__.Net:: # /tmp/ipython-input-355904904.py:45:0\n    )  (type 'Tensor')\n    Outputs:\n        #0: 110 defined in (%110 : int[] = prim::ListConstruct(%104, %109), scope: __main__.Net::\n    )  (type 'List[int]')",
          "traceback": [
            "\u001b[0;31m---------------------------------------------------------------------------\u001b[0m",
            "\u001b[0;31mSymbolicValueError\u001b[0m                        Traceback (most recent call last)",
            "\u001b[0;32m/tmp/ipython-input-141731322.py\u001b[0m in \u001b[0;36m<cell line: 0>\u001b[0;34m()\u001b[0m\n\u001b[1;32m      6\u001b[0m \u001b[0;34m\u001b[0m\u001b[0m\n\u001b[1;32m      7\u001b[0m \u001b[0;31m# Export the model\u001b[0m\u001b[0;34m\u001b[0m\u001b[0;34m\u001b[0m\u001b[0m\n\u001b[0;32m----> 8\u001b[0;31m torch.onnx.export(model, dummy_input, \"model.onnx\",\n\u001b[0m\u001b[1;32m      9\u001b[0m                   \u001b[0minput_names\u001b[0m\u001b[0;34m=\u001b[0m\u001b[0;34m[\u001b[0m\u001b[0;34m'input'\u001b[0m\u001b[0;34m]\u001b[0m\u001b[0;34m,\u001b[0m\u001b[0;34m\u001b[0m\u001b[0;34m\u001b[0m\u001b[0m\n\u001b[1;32m     10\u001b[0m                   \u001b[0moutput_names\u001b[0m\u001b[0;34m=\u001b[0m\u001b[0;34m[\u001b[0m\u001b[0;34m'output'\u001b[0m\u001b[0;34m]\u001b[0m\u001b[0;34m,\u001b[0m\u001b[0;34m\u001b[0m\u001b[0;34m\u001b[0m\u001b[0m\n",
            "\u001b[0;32m/usr/local/lib/python3.12/dist-packages/torch/onnx/__init__.py\u001b[0m in \u001b[0;36mexport\u001b[0;34m(model, args, f, kwargs, export_params, verbose, input_names, output_names, opset_version, dynamic_axes, keep_initializers_as_inputs, dynamo, external_data, dynamic_shapes, custom_translation_table, report, optimize, verify, profile, dump_exported_program, artifacts_dir, fallback, training, operator_export_type, do_constant_folding, custom_opsets, export_modules_as_functions, autograd_inlining)\u001b[0m\n\u001b[1;32m    422\u001b[0m             )\n\u001b[1;32m    423\u001b[0m \u001b[0;34m\u001b[0m\u001b[0m\n\u001b[0;32m--> 424\u001b[0;31m         export(\n\u001b[0m\u001b[1;32m    425\u001b[0m             \u001b[0mmodel\u001b[0m\u001b[0;34m,\u001b[0m\u001b[0;34m\u001b[0m\u001b[0;34m\u001b[0m\u001b[0m\n\u001b[1;32m    426\u001b[0m             \u001b[0margs\u001b[0m\u001b[0;34m,\u001b[0m\u001b[0;34m\u001b[0m\u001b[0;34m\u001b[0m\u001b[0m\n",
            "\u001b[0;32m/usr/local/lib/python3.12/dist-packages/torch/onnx/utils.py\u001b[0m in \u001b[0;36mexport\u001b[0;34m(model, args, f, kwargs, export_params, verbose, training, input_names, output_names, operator_export_type, opset_version, do_constant_folding, dynamic_axes, keep_initializers_as_inputs, custom_opsets, export_modules_as_functions, autograd_inlining)\u001b[0m\n\u001b[1;32m    520\u001b[0m         \u001b[0margs\u001b[0m \u001b[0;34m=\u001b[0m \u001b[0margs\u001b[0m \u001b[0;34m+\u001b[0m \u001b[0;34m(\u001b[0m\u001b[0mkwargs\u001b[0m\u001b[0;34m,\u001b[0m\u001b[0;34m)\u001b[0m\u001b[0;34m\u001b[0m\u001b[0;34m\u001b[0m\u001b[0m\n\u001b[1;32m    521\u001b[0m \u001b[0;34m\u001b[0m\u001b[0m\n\u001b[0;32m--> 522\u001b[0;31m     _export(\n\u001b[0m\u001b[1;32m    523\u001b[0m         \u001b[0mmodel\u001b[0m\u001b[0;34m,\u001b[0m\u001b[0;34m\u001b[0m\u001b[0;34m\u001b[0m\u001b[0m\n\u001b[1;32m    524\u001b[0m         \u001b[0margs\u001b[0m\u001b[0;34m,\u001b[0m\u001b[0;34m\u001b[0m\u001b[0;34m\u001b[0m\u001b[0m\n",
            "\u001b[0;32m/usr/local/lib/python3.12/dist-packages/torch/onnx/utils.py\u001b[0m in \u001b[0;36m_export\u001b[0;34m(model, args, f, export_params, verbose, training, input_names, output_names, operator_export_type, export_type, opset_version, do_constant_folding, dynamic_axes, keep_initializers_as_inputs, fixed_batch_size, custom_opsets, add_node_names, onnx_shape_inference, export_modules_as_functions, autograd_inlining)\u001b[0m\n\u001b[1;32m   1455\u001b[0m             \u001b[0m_validate_dynamic_axes\u001b[0m\u001b[0;34m(\u001b[0m\u001b[0mdynamic_axes\u001b[0m\u001b[0;34m,\u001b[0m \u001b[0mmodel\u001b[0m\u001b[0;34m,\u001b[0m \u001b[0minput_names\u001b[0m\u001b[0;34m,\u001b[0m \u001b[0moutput_names\u001b[0m\u001b[0;34m)\u001b[0m\u001b[0;34m\u001b[0m\u001b[0;34m\u001b[0m\u001b[0m\n\u001b[1;32m   1456\u001b[0m \u001b[0;34m\u001b[0m\u001b[0m\n\u001b[0;32m-> 1457\u001b[0;31m             graph, params_dict, torch_out = _model_to_graph(\n\u001b[0m\u001b[1;32m   1458\u001b[0m                 \u001b[0mmodel\u001b[0m\u001b[0;34m,\u001b[0m\u001b[0;34m\u001b[0m\u001b[0;34m\u001b[0m\u001b[0m\n\u001b[1;32m   1459\u001b[0m                 \u001b[0margs\u001b[0m\u001b[0;34m,\u001b[0m\u001b[0;34m\u001b[0m\u001b[0;34m\u001b[0m\u001b[0m\n",
            "\u001b[0;32m/usr/local/lib/python3.12/dist-packages/torch/onnx/utils.py\u001b[0m in \u001b[0;36m_model_to_graph\u001b[0;34m(model, args, verbose, input_names, output_names, operator_export_type, do_constant_folding, _disable_torch_constant_prop, fixed_batch_size, training, dynamic_axes)\u001b[0m\n\u001b[1;32m   1082\u001b[0m \u001b[0;34m\u001b[0m\u001b[0m\n\u001b[1;32m   1083\u001b[0m     \u001b[0;32mtry\u001b[0m\u001b[0;34m:\u001b[0m\u001b[0;34m\u001b[0m\u001b[0;34m\u001b[0m\u001b[0m\n\u001b[0;32m-> 1084\u001b[0;31m         graph = _optimize_graph(\n\u001b[0m\u001b[1;32m   1085\u001b[0m             \u001b[0mgraph\u001b[0m\u001b[0;34m,\u001b[0m\u001b[0;34m\u001b[0m\u001b[0;34m\u001b[0m\u001b[0m\n\u001b[1;32m   1086\u001b[0m             \u001b[0moperator_export_type\u001b[0m\u001b[0;34m,\u001b[0m\u001b[0;34m\u001b[0m\u001b[0;34m\u001b[0m\u001b[0m\n",
            "\u001b[0;32m/usr/local/lib/python3.12/dist-packages/torch/onnx/utils.py\u001b[0m in \u001b[0;36m_optimize_graph\u001b[0;34m(graph, operator_export_type, _disable_torch_constant_prop, fixed_batch_size, params_dict, dynamic_axes, input_names, module)\u001b[0m\n\u001b[1;32m    657\u001b[0m     \u001b[0m_C\u001b[0m\u001b[0;34m.\u001b[0m\u001b[0m_jit_pass_onnx_lint\u001b[0m\u001b[0;34m(\u001b[0m\u001b[0mgraph\u001b[0m\u001b[0;34m)\u001b[0m\u001b[0;34m\u001b[0m\u001b[0;34m\u001b[0m\u001b[0m\n\u001b[1;32m    658\u001b[0m \u001b[0;34m\u001b[0m\u001b[0m\n\u001b[0;32m--> 659\u001b[0;31m     \u001b[0mgraph\u001b[0m \u001b[0;34m=\u001b[0m \u001b[0m_C\u001b[0m\u001b[0;34m.\u001b[0m\u001b[0m_jit_pass_onnx\u001b[0m\u001b[0;34m(\u001b[0m\u001b[0mgraph\u001b[0m\u001b[0;34m,\u001b[0m \u001b[0moperator_export_type\u001b[0m\u001b[0;34m)\u001b[0m\u001b[0;34m\u001b[0m\u001b[0;34m\u001b[0m\u001b[0m\n\u001b[0m\u001b[1;32m    660\u001b[0m     \u001b[0m_C\u001b[0m\u001b[0;34m.\u001b[0m\u001b[0m_jit_pass_onnx_lint\u001b[0m\u001b[0;34m(\u001b[0m\u001b[0mgraph\u001b[0m\u001b[0;34m)\u001b[0m\u001b[0;34m\u001b[0m\u001b[0;34m\u001b[0m\u001b[0m\n\u001b[1;32m    661\u001b[0m     \u001b[0m_C\u001b[0m\u001b[0;34m.\u001b[0m\u001b[0m_jit_pass_lint\u001b[0m\u001b[0;34m(\u001b[0m\u001b[0mgraph\u001b[0m\u001b[0;34m)\u001b[0m\u001b[0;34m\u001b[0m\u001b[0;34m\u001b[0m\u001b[0m\n",
            "\u001b[0;32m/usr/local/lib/python3.12/dist-packages/torch/onnx/utils.py\u001b[0m in \u001b[0;36m_run_symbolic_function\u001b[0;34m(graph, block, node, inputs, env, values_in_env, new_nodes, operator_export_type)\u001b[0m\n\u001b[1;32m   1724\u001b[0m                     \u001b[0mk\u001b[0m\u001b[0;34m:\u001b[0m \u001b[0msymbolic_helper\u001b[0m\u001b[0;34m.\u001b[0m\u001b[0m_node_get\u001b[0m\u001b[0;34m(\u001b[0m\u001b[0mnode\u001b[0m\u001b[0;34m,\u001b[0m \u001b[0mk\u001b[0m\u001b[0;34m)\u001b[0m \u001b[0;32mfor\u001b[0m \u001b[0mk\u001b[0m \u001b[0;32min\u001b[0m \u001b[0mnode\u001b[0m\u001b[0;34m.\u001b[0m\u001b[0mattributeNames\u001b[0m\u001b[0;34m(\u001b[0m\u001b[0;34m)\u001b[0m\u001b[0;34m\u001b[0m\u001b[0;34m\u001b[0m\u001b[0m\n\u001b[1;32m   1725\u001b[0m                 }\n\u001b[0;32m-> 1726\u001b[0;31m                 \u001b[0;32mreturn\u001b[0m \u001b[0msymbolic_fn\u001b[0m\u001b[0;34m(\u001b[0m\u001b[0mgraph_context\u001b[0m\u001b[0;34m,\u001b[0m \u001b[0;34m*\u001b[0m\u001b[0minputs\u001b[0m\u001b[0;34m,\u001b[0m \u001b[0;34m**\u001b[0m\u001b[0mattrs\u001b[0m\u001b[0;34m)\u001b[0m\u001b[0;34m\u001b[0m\u001b[0;34m\u001b[0m\u001b[0m\n\u001b[0m\u001b[1;32m   1727\u001b[0m \u001b[0;34m\u001b[0m\u001b[0m\n\u001b[1;32m   1728\u001b[0m         attrs = {\n",
            "\u001b[0;32m/usr/local/lib/python3.12/dist-packages/torch/onnx/symbolic_helper.py\u001b[0m in \u001b[0;36mwrapper\u001b[0;34m(g, *args, **kwargs)\u001b[0m\n\u001b[1;32m    370\u001b[0m \u001b[0;34m\u001b[0m\u001b[0m\n\u001b[1;32m    371\u001b[0m             \u001b[0;32mif\u001b[0m \u001b[0;32mnot\u001b[0m \u001b[0many\u001b[0m\u001b[0;34m(\u001b[0m\u001b[0mis_quantized\u001b[0m\u001b[0;34m)\u001b[0m\u001b[0;34m:\u001b[0m\u001b[0;34m\u001b[0m\u001b[0;34m\u001b[0m\u001b[0m\n\u001b[0;32m--> 372\u001b[0;31m                 \u001b[0;32mreturn\u001b[0m \u001b[0mfn\u001b[0m\u001b[0;34m(\u001b[0m\u001b[0mg\u001b[0m\u001b[0;34m,\u001b[0m \u001b[0;34m*\u001b[0m\u001b[0margs\u001b[0m\u001b[0;34m,\u001b[0m \u001b[0;34m**\u001b[0m\u001b[0mkwargs\u001b[0m\u001b[0;34m)\u001b[0m\u001b[0;34m\u001b[0m\u001b[0;34m\u001b[0m\u001b[0m\n\u001b[0m\u001b[1;32m    373\u001b[0m \u001b[0;34m\u001b[0m\u001b[0m\n\u001b[1;32m    374\u001b[0m             \u001b[0;31m# Dequantize arguments that are quantized\u001b[0m\u001b[0;34m\u001b[0m\u001b[0;34m\u001b[0m\u001b[0m\n",
            "\u001b[0;32m/usr/local/lib/python3.12/dist-packages/torch/onnx/symbolic_helper.py\u001b[0m in \u001b[0;36mwrapper\u001b[0;34m(g, *args, **kwargs)\u001b[0m\n\u001b[1;32m    264\u001b[0m                 \u001b[0mfn_name\u001b[0m \u001b[0;34m=\u001b[0m \u001b[0;32mNone\u001b[0m\u001b[0;34m\u001b[0m\u001b[0;34m\u001b[0m\u001b[0m\n\u001b[1;32m    265\u001b[0m             args = [\n\u001b[0;32m--> 266\u001b[0;31m                 \u001b[0m_parse_arg\u001b[0m\u001b[0;34m(\u001b[0m\u001b[0marg\u001b[0m\u001b[0;34m,\u001b[0m \u001b[0marg_desc\u001b[0m\u001b[0;34m,\u001b[0m \u001b[0marg_name\u001b[0m\u001b[0;34m,\u001b[0m \u001b[0mfn_name\u001b[0m\u001b[0;34m)\u001b[0m  \u001b[0;31m# type: ignore[method-assign]\u001b[0m\u001b[0;34m\u001b[0m\u001b[0;34m\u001b[0m\u001b[0m\n\u001b[0m\u001b[1;32m    267\u001b[0m                 \u001b[0;32mfor\u001b[0m \u001b[0marg\u001b[0m\u001b[0;34m,\u001b[0m \u001b[0marg_desc\u001b[0m\u001b[0;34m,\u001b[0m \u001b[0marg_name\u001b[0m \u001b[0;32min\u001b[0m \u001b[0mzip\u001b[0m\u001b[0;34m(\u001b[0m\u001b[0margs\u001b[0m\u001b[0;34m,\u001b[0m \u001b[0marg_descriptors\u001b[0m\u001b[0;34m,\u001b[0m \u001b[0marg_names\u001b[0m\u001b[0;34m)\u001b[0m\u001b[0;34m\u001b[0m\u001b[0;34m\u001b[0m\u001b[0m\n\u001b[1;32m    268\u001b[0m             ]\n",
            "\u001b[0;32m/usr/local/lib/python3.12/dist-packages/torch/onnx/symbolic_helper.py\u001b[0m in \u001b[0;36m_parse_arg\u001b[0;34m(value, desc, arg_name, node_name)\u001b[0m\n\u001b[1;32m     88\u001b[0m                 \u001b[0melement_node\u001b[0m \u001b[0;34m=\u001b[0m \u001b[0mv\u001b[0m\u001b[0;34m.\u001b[0m\u001b[0mnode\u001b[0m\u001b[0;34m(\u001b[0m\u001b[0;34m)\u001b[0m\u001b[0;34m\u001b[0m\u001b[0;34m\u001b[0m\u001b[0m\n\u001b[1;32m     89\u001b[0m                 \u001b[0;32mif\u001b[0m \u001b[0melement_node\u001b[0m\u001b[0;34m.\u001b[0m\u001b[0mkind\u001b[0m\u001b[0;34m(\u001b[0m\u001b[0;34m)\u001b[0m \u001b[0;34m!=\u001b[0m \u001b[0;34m\"onnx::Constant\"\u001b[0m\u001b[0;34m:\u001b[0m\u001b[0;34m\u001b[0m\u001b[0;34m\u001b[0m\u001b[0m\n\u001b[0;32m---> 90\u001b[0;31m                     raise errors.SymbolicValueError(\n\u001b[0m\u001b[1;32m     91\u001b[0m                         \u001b[0;34mf\"Failed to export a node '{element_node}' \"\u001b[0m\u001b[0;34m\u001b[0m\u001b[0;34m\u001b[0m\u001b[0m\n\u001b[1;32m     92\u001b[0m                         \u001b[0;34mf\"(in list node {node}) \"\u001b[0m\u001b[0;34m\u001b[0m\u001b[0;34m\u001b[0m\u001b[0m\n",
            "\u001b[0;31mSymbolicValueError\u001b[0m: Failed to export a node '%104 : Long(device=cpu) = onnx::Gather[axis=0](%101, %103), scope: __main__.Net:: # /tmp/ipython-input-355904904.py:45:0\n' (in list node %110 : int[] = prim::ListConstruct(%104, %109), scope: __main__.Net::\n) because it is not constant. Please try to make things (e.g. kernel sizes) static if possible.  [Caused by the value '110 defined in (%110 : int[] = prim::ListConstruct(%104, %109), scope: __main__.Net::\n)' (type 'List[int]') in the TorchScript graph. The containing node has kind 'prim::ListConstruct'.] \n\n    Inputs:\n        #0: 104 defined in (%104 : Long(device=cpu) = onnx::Gather[axis=0](%101, %103), scope: __main__.Net:: # /tmp/ipython-input-355904904.py:45:0\n    )  (type 'Tensor')\n        #1: 109 defined in (%109 : Long(device=cpu) = onnx::Gather[axis=0](%106, %108), scope: __main__.Net:: # /tmp/ipython-input-355904904.py:45:0\n    )  (type 'Tensor')\n    Outputs:\n        #0: 110 defined in (%110 : int[] = prim::ListConstruct(%104, %109), scope: __main__.Net::\n    )  (type 'List[int]')"
          ]
        }
      ],
      "source": [
        "!pip install onnx\n",
        "device = torch.device(\"cuda\" if use_cuda else \"cpu\")\n",
        "\n",
        "# Create dummy input with the same shape as your input\n",
        "dummy_input = torch.randn(1, 1, 28, 28).to(device)  # Batch x Channels x Height x Width\n",
        "\n",
        "# Export the model\n",
        "torch.onnx.export(model, dummy_input, \"model.onnx\",\n",
        "                  input_names=['input'],\n",
        "                  output_names=['output'],\n",
        "                  dynamic_axes={'input': {0: 'batch_size'}, 'output': {0: 'batch_size'}},\n",
        "                  opset_version=11)"
      ]
    },
    {
      "cell_type": "code",
      "execution_count": null,
      "id": "202abc10",
      "metadata": {
        "colab": {
          "base_uri": "https://localhost:8080/"
        },
        "id": "202abc10",
        "outputId": "775a8715-c7f1-4896-f3f6-f0b7acf37993"
      },
      "outputs": [
        {
          "output_type": "execute_result",
          "data": {
            "text/plain": [
              "Net(\n",
              "  (conv1): Conv2d(1, 28, kernel_size=(3, 3), stride=(1, 1), padding=(1, 1))\n",
              "  (bn1): BatchNorm2d(28, eps=1e-05, momentum=0.1, affine=True, track_running_stats=True)\n",
              "  (conv2): Conv2d(28, 28, kernel_size=(3, 3), stride=(1, 1), padding=(1, 1))\n",
              "  (bn2): BatchNorm2d(28, eps=1e-05, momentum=0.1, affine=True, track_running_stats=True)\n",
              "  (conv3): Conv2d(28, 16, kernel_size=(3, 3), stride=(1, 1), padding=(1, 1))\n",
              "  (bn3): BatchNorm2d(16, eps=1e-05, momentum=0.1, affine=True, track_running_stats=True)\n",
              "  (conv4): Conv2d(16, 16, kernel_size=(3, 3), stride=(1, 1), padding=(1, 1))\n",
              "  (bn4): BatchNorm2d(16, eps=1e-05, momentum=0.1, affine=True, track_running_stats=True)\n",
              "  (conv5): Conv2d(16, 8, kernel_size=(3, 3), stride=(1, 1), padding=(1, 1))\n",
              "  (bn5): BatchNorm2d(8, eps=1e-05, momentum=0.1, affine=True, track_running_stats=True)\n",
              "  (conv6): Conv2d(8, 8, kernel_size=(3, 3), stride=(1, 1), padding=(1, 1))\n",
              "  (bn6): BatchNorm2d(8, eps=1e-05, momentum=0.1, affine=True, track_running_stats=True)\n",
              "  (dropout): Dropout(p=0.3, inplace=False)\n",
              "  (fc1): Linear(in_features=392, out_features=10, bias=True)\n",
              ")"
            ]
          },
          "metadata": {},
          "execution_count": 81
        }
      ],
      "source": [
        "model"
      ]
    },
    {
      "cell_type": "code",
      "execution_count": null,
      "id": "343b7e70",
      "metadata": {
        "id": "343b7e70",
        "outputId": "e50cc24a-58b7-4784-ce9e-7ea877e6656e"
      },
      "outputs": [
        {
          "name": "stdout",
          "output_type": "stream",
          "text": [
            "Collecting onnx\n",
            "  Downloading onnx-1.19.0-cp312-cp312-manylinux2014_x86_64.manylinux_2_17_x86_64.whl.metadata (7.0 kB)\n",
            "Requirement already satisfied: numpy>=1.22 in /usr/local/lib/python3.12/dist-packages (from onnx) (2.0.2)\n",
            "Requirement already satisfied: protobuf>=4.25.1 in /usr/local/lib/python3.12/dist-packages (from onnx) (5.29.5)\n",
            "Requirement already satisfied: typing_extensions>=4.7.1 in /usr/local/lib/python3.12/dist-packages (from onnx) (4.15.0)\n",
            "Requirement already satisfied: ml_dtypes in /usr/local/lib/python3.12/dist-packages (from onnx) (0.5.3)\n",
            "Downloading onnx-1.19.0-cp312-cp312-manylinux2014_x86_64.manylinux_2_17_x86_64.whl (18.2 MB)\n",
            "\u001b[2K   \u001b[90m━━━━━━━━━━━━━━━━━━━━━━━━━━━━━━━━━━━━━━━━\u001b[0m \u001b[32m18.2/18.2 MB\u001b[0m \u001b[31m62.4 MB/s\u001b[0m eta \u001b[36m0:00:00\u001b[0m\n",
            "\u001b[?25hInstalling collected packages: onnx\n",
            "Successfully installed onnx-1.19.0\n"
          ]
        }
      ],
      "source": [
        "!pip install onnx"
      ]
    },
    {
      "cell_type": "code",
      "execution_count": null,
      "id": "da44da61",
      "metadata": {
        "id": "da44da61"
      },
      "outputs": [],
      "source": []
    }
  ],
  "metadata": {
    "language_info": {
      "name": "python"
    },
    "colab": {
      "provenance": [],
      "gpuType": "T4",
      "include_colab_link": true
    },
    "accelerator": "GPU",
    "kernelspec": {
      "name": "python3",
      "display_name": "Python 3"
    }
  },
  "nbformat": 4,
  "nbformat_minor": 5
}