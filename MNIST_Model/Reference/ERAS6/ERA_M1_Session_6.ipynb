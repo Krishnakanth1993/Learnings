{
 "cells": [
  {
   "cell_type": "markdown",
   "id": "f299da28",
   "metadata": {},
   "source": [
    "\n",
    "# Import Libraries\n"
   ]
  },
  {
   "cell_type": "code",
   "execution_count": 12,
   "id": "4d5c8dff",
   "metadata": {},
   "outputs": [],
   "source": [
    "from __future__ import print_function\n",
    "import torch\n",
    "import torch.nn as nn\n",
    "import torch.nn.functional as F\n",
    "import torch.optim as optim\n",
    "from torchvision import datasets, transforms\n",
    "from torchsummary import summary\n",
    "from torch.optim.lr_scheduler import StepLR\n",
    "\n",
    "from tqdm import tqdm\n",
    "from io import StringIO\n",
    "import sys\n"
   ]
  },
  {
   "cell_type": "markdown",
   "id": "990f05df",
   "metadata": {},
   "source": [
    "## Data Transformations\n",
    "\n",
    "We first start with defining our data transformations. We need to think what our data is and how can we augment it to correct represent images which it might not see otherwise.\n",
    "\n",
    "Here is the list of all the transformations which come pre-built with PyTorch\n",
    "\n",
    "1.   Compose\n",
    "2.   ToTensor\n",
    "3.   ToPILImage\n",
    "4. Normalize\n",
    "5. Resize\n",
    "6. Scale\n",
    "7. CenterCrop\n",
    "8. Pad\n",
    "9. Lambda\n",
    "10. RandomApply\n",
    "11. RandomChoice\n",
    "12. RandomOrder\n",
    "13. RandomCrop\n",
    "14. RandomHorizontalFlip\n",
    "15. RandomVerticalFlip\n",
    "16. RandomResizedCrop\n",
    "17. RandomSizedCrop\n",
    "18. FiveCrop\n",
    "19. TenCrop\n",
    "20. LinearTransformation\n",
    "21. ColorJitter\n",
    "22. RandomRotation\n",
    "23. RandomAffine\n",
    "24. Grayscale\n",
    "25. RandomGrayscale\n",
    "26. RandomPerspective\n",
    "27. RandomErasing\n",
    "\n",
    "You can read more about them [here](https://pytorch.org/docs/stable/_modules/torchvision/transforms/transforms.html)\n"
   ]
  },
  {
   "cell_type": "code",
   "execution_count": 13,
   "id": "9f1ff323",
   "metadata": {},
   "outputs": [],
   "source": [
    "\n",
    "# Train Phase transformations\n",
    "train_transforms = transforms.Compose([\n",
    "                                      #  transforms.Resize((28, 28)),\n",
    "                                      #  transforms.ColorJitter(brightness=0.10, contrast=0.1, saturation=0.10, hue=0.1),\n",
    "                                      transforms.RandomRotation((-7.0, 7.0), fill=(1,)),\n",
    "                                       transforms.ToTensor(),\n",
    "                                       transforms.Normalize((0.1307,), (0.3081,)) # The mean and std have to be sequences (e.g., tuples), therefore you should add a comma after the values.\n",
    "                                       # Note the difference between (0.1307) and (0.1307,)\n",
    "                                       ])\n",
    "\n",
    "# Test Phase transformations\n",
    "test_transforms = transforms.Compose([\n",
    "                                      #  transforms.Resize((28, 28)),\n",
    "                                      #  transforms.ColorJitter(brightness=0.10, contrast=0.1, saturation=0.10, hue=0.1),\n",
    "                                       transforms.ToTensor(),\n",
    "                                       transforms.Normalize((0.1307,), (0.3081,))\n",
    "                                       ])\n",
    "\n"
   ]
  },
  {
   "cell_type": "code",
   "execution_count": 39,
   "id": "29741a06",
   "metadata": {},
   "outputs": [],
   "source": [
    "\n",
    "# Dataset and Creating Train/Test Split\n",
    "\n",
    "train = datasets.MNIST('./data', train=True, download=True, transform=train_transforms)\n",
    "test = datasets.MNIST('./data', train=False, download=True, transform=test_transforms)\n",
    "\n"
   ]
  },
  {
   "cell_type": "code",
   "execution_count": null,
   "id": "991a6c4a",
   "metadata": {},
   "outputs": [
    {
     "name": "stdout",
     "output_type": "stream",
     "text": [
      "CUDA Available? True\n"
     ]
    }
   ],
   "source": [
    "# Dataloader Arguments & Test/Train Dataloaders\n",
    "\n",
    "SEED = 1\n",
    "\n",
    "# CUDA?\n",
    "cuda = torch.cuda.is_available()\n",
    "print(\"CUDA Available?\", cuda)\n",
    "\n",
    "# For reproducibility\n",
    "torch.manual_seed(SEED)\n",
    "\n",
    "if cuda:\n",
    "    torch.cuda.manual_seed(SEED)\n",
    "\n",
    "# dataloader arguments - something you'll fetch these from cmdprmt\n",
    "dataloader_args = dict(shuffle=True, batch_size=128, num_workers=4, pin_memory=True) if cuda else dict(shuffle=True, batch_size=64)\n",
    "\n",
    "# train dataloader\n",
    "train_loader = torch.utils.data.DataLoader(train, **dataloader_args)\n",
    "\n",
    "# test dataloader\n",
    "test_loader = torch.utils.data.DataLoader(test, **dataloader_args)\n",
    "\n"
   ]
  },
  {
   "cell_type": "markdown",
   "id": "db05f637",
   "metadata": {},
   "source": [
    "# Data Statistics\n",
    "\n",
    "It is important to know your data very well. Let's check some of the statistics around our data and how it actually looks like\n",
    "\n"
   ]
  },
  {
   "cell_type": "code",
   "execution_count": 41,
   "id": "8471195f",
   "metadata": {},
   "outputs": [
    {
     "name": "stdout",
     "output_type": "stream",
     "text": [
      "[Train]\n",
      " - Numpy Shape: (60000, 28, 28)\n",
      " - Tensor Shape: torch.Size([60000, 28, 28])\n",
      " - min: tensor(0.)\n",
      " - max: tensor(1.)\n",
      " - mean: tensor(0.1307)\n",
      " - std: tensor(0.3081)\n",
      " - var: tensor(0.0949)\n",
      "torch.Size([512, 1, 28, 28])\n",
      "torch.Size([512])\n"
     ]
    },
    {
     "data": {
      "text/plain": [
       "<matplotlib.image.AxesImage at 0x1c413e79f90>"
      ]
     },
     "execution_count": 41,
     "metadata": {},
     "output_type": "execute_result"
    },
    {
     "data": {
      "image/png": "[encoded data removed]",
      "text/plain": [
       "<Figure size 640x480 with 1 Axes>"
      ]
     },
     "metadata": {},
     "output_type": "display_data"
    }
   ],
   "source": [
    "# We'd need to convert it into Numpy! Remember above we have converted it into tensors already\n",
    "raw_train_data = train.data  \n",
    "\n",
    "# Convert to float and scale to [0, 1]\n",
    "float_data = raw_train_data.float() / 255.0  \n",
    "\n",
    "print('[Train]')\n",
    "print(' - Numpy Shape:', raw_train_data.numpy().shape)\n",
    "print(' - Tensor Shape:', raw_train_data.size())\n",
    "print(' - min:', torch.min(float_data))\n",
    "print(' - max:', torch.max(float_data))\n",
    "print(' - mean:', torch.mean(float_data))\n",
    "print(' - std:', torch.std(float_data))\n",
    "print(' - var:', torch.var(float_data))\n",
    "\n",
    "dataiter = iter(train_loader)\n",
    "images, labels = next(dataiter)\n",
    "\n",
    "print(images.shape)\n",
    "print(labels.shape)\n",
    "\n",
    "# Let's visualize some of the images\n",
    "%matplotlib inline\n",
    "import matplotlib.pyplot as plt\n",
    "\n",
    "plt.imshow(images[0].numpy().squeeze(), cmap='gray_r')"
   ]
  },
  {
   "cell_type": "code",
   "execution_count": 26,
   "id": "e643e3ab",
   "metadata": {},
   "outputs": [
    {
     "name": "stdout",
     "output_type": "stream",
     "text": [
      "torch.Size([128, 1, 28, 28])\n",
      "torch.Size([128])\n"
     ]
    },
    {
     "data": {
      "image/png": "[encoded data removed]",
      "text/plain": [
       "<Figure size 640x480 with 1 Axes>"
      ]
     },
     "metadata": {},
     "output_type": "display_data"
    }
   ],
   "source": [
    "# Inspect a batch\n",
    "dataiter = iter(train_loader)\n",
    "images, labels = next(dataiter)\n",
    "\n",
    "print(images.shape)  # Should be (batch_size, channels, height, width)\n",
    "print(labels.shape)  # Should be (batch_size,)\n",
    "\n",
    "# Visualize the first image in the batch\n",
    "plt.imshow(images[0].squeeze(), cmap='gray_r')  # squeeze removes channel dim if 1\n",
    "plt.title(f'Label: {labels[0].item()}')\n",
    "plt.show()"
   ]
  },
  {
   "cell_type": "code",
   "execution_count": 11,
   "id": "e53c498e",
   "metadata": {},
   "outputs": [
    {
     "ename": "NameError",
     "evalue": "name 'images' is not defined",
     "output_type": "error",
     "traceback": [
      "\u001b[31m---------------------------------------------------------------------------\u001b[39m",
      "\u001b[31mNameError\u001b[39m                                 Traceback (most recent call last)",
      "\u001b[36mCell\u001b[39m\u001b[36m \u001b[39m\u001b[32mIn[11]\u001b[39m\u001b[32m, line 5\u001b[39m\n\u001b[32m      2\u001b[39m get_ipython().run_line_magic(\u001b[33m'\u001b[39m\u001b[33mmatplotlib\u001b[39m\u001b[33m'\u001b[39m, \u001b[33m'\u001b[39m\u001b[33minline\u001b[39m\u001b[33m'\u001b[39m)\n\u001b[32m      3\u001b[39m \u001b[38;5;28;01mimport\u001b[39;00m\u001b[38;5;250m \u001b[39m\u001b[34;01mmatplotlib\u001b[39;00m\u001b[34;01m.\u001b[39;00m\u001b[34;01mpyplot\u001b[39;00m\u001b[38;5;250m \u001b[39m\u001b[38;5;28;01mas\u001b[39;00m\u001b[38;5;250m \u001b[39m\u001b[34;01mplt\u001b[39;00m\n\u001b[32m----> \u001b[39m\u001b[32m5\u001b[39m plt.imshow(\u001b[43mimages\u001b[49m[\u001b[32m0\u001b[39m].numpy().squeeze(), cmap=\u001b[33m'\u001b[39m\u001b[33mgray_r\u001b[39m\u001b[33m'\u001b[39m)\n",
      "\u001b[31mNameError\u001b[39m: name 'images' is not defined"
     ]
    }
   ],
   "source": [
    "# Let's visualize some of the images\n",
    "%matplotlib inline\n",
    "import matplotlib.pyplot as plt\n",
    "\n",
    "plt.imshow(images[0].numpy().squeeze(), cmap='gray_r')"
   ]
  },
  {
   "cell_type": "markdown",
   "id": "f3178568",
   "metadata": {},
   "source": [
    "\n",
    "\n",
    "\n",
    "## MORE\n",
    "\n",
    "It is important that we view as many images as possible. This is required to get some idea on image augmentation later on\n",
    "\n"
   ]
  },
  {
   "cell_type": "code",
   "execution_count": 27,
   "id": "ef5e5cc6",
   "metadata": {},
   "outputs": [
    {
     "data": {
      "image/png": "[encoded data removed]",
      "text/plain": [
       "<Figure size 640x480 with 60 Axes>"
      ]
     },
     "metadata": {},
     "output_type": "display_data"
    }
   ],
   "source": [
    "figure = plt.figure()\n",
    "num_of_images = 60\n",
    "for index in range(1, num_of_images + 1):\n",
    "    plt.subplot(6, 10, index)\n",
    "    plt.axis('off')\n",
    "    plt.imshow(images[index].numpy().squeeze(), cmap='gray_r')"
   ]
  },
  {
   "cell_type": "markdown",
   "id": "33b593cb",
   "metadata": {},
   "source": [
    "# How did we get those mean and std values which we used above?\n",
    "\n",
    "Let's run a small experiment"
   ]
  },
  {
   "cell_type": "code",
   "execution_count": 28,
   "id": "2edd2848",
   "metadata": {},
   "outputs": [
    {
     "name": "stdout",
     "output_type": "stream",
     "text": [
      "[Train]\n",
      " - Numpy Shape: (60000, 28, 28)\n",
      " - Tensor Shape: torch.Size([60000, 28, 28])\n",
      " - min: tensor(0.)\n",
      " - max: tensor(1.)\n",
      " - mean: tensor(0.1307)\n",
      " - std: tensor(0.3081)\n",
      " - var: tensor(0.0949)\n"
     ]
    }
   ],
   "source": [
    "# simple transform\n",
    "simple_transforms = transforms.Compose([\n",
    "                                      #  transforms.Resize((28, 28)),\n",
    "                                      #  transforms.ColorJitter(brightness=0.10, contrast=0.1, saturation=0.10, hue=0.1),\n",
    "                                       transforms.ToTensor(),\n",
    "                                      #  transforms.Normalize((0.1307,), (0.3081,)) # The mean and std have to be sequences (e.g., tuples), therefore you should add a comma after the values.\n",
    "                                       # Note the difference between (0.1307) and (0.1307,)\n",
    "                                       ])\n",
    "exp = datasets.MNIST('./data', train=True, download=True, transform=simple_transforms)\n",
    "exp_data = exp.train_data\n",
    "exp_data = exp.transform(exp_data.numpy())\n",
    "\n",
    "print('[Train]')\n",
    "print(' - Numpy Shape:', exp.train_data.cpu().numpy().shape)\n",
    "print(' - Tensor Shape:', exp.train_data.size())\n",
    "print(' - min:', torch.min(exp_data))\n",
    "print(' - max:', torch.max(exp_data))\n",
    "print(' - mean:', torch.mean(exp_data))\n",
    "print(' - std:', torch.std(exp_data))\n",
    "print(' - var:', torch.var(exp_data))"
   ]
  },
  {
   "cell_type": "markdown",
   "id": "f86ea26d",
   "metadata": {},
   "source": [
    "# The model\n",
    "Let's start with the model we first saw"
   ]
  },
  {
   "cell_type": "code",
   "execution_count": 227,
   "id": "e0082179",
   "metadata": {},
   "outputs": [],
   "source": [
    "class Net(nn.Module):\n",
    "    def __init__(self):\n",
    "        super(Net, self).__init__()\n",
    "        self.conv1 = nn.Conv2d(1, 12, 3, padding=1) # 28>28 | 3\n",
    "        self.bn1 = nn.BatchNorm2d(12)\n",
    "        self.conv2 = nn.Conv2d(12, 12, 3, padding=1) # 28 > 28 |  5\n",
    "        self.bn2 = nn.BatchNorm2d(12)\n",
    "        self.conv3 = nn.Conv2d(12, 12, 3, padding=1) # 28 > 28 |  7\n",
    "        self.bn3 = nn.BatchNorm2d(12)\n",
    "        self.pool1 = nn.MaxPool2d(2, 2) # 28 > 14 | 8\n",
    "        self.conv4 = nn.Conv2d(12, 8, 3, padding=1) # 14> 14 | 10\n",
    "        self.bn4 = nn.BatchNorm2d(8)\n",
    "        self.conv5 = nn.Conv2d(8, 8, 3, padding=1) #14 > 14 | 14\n",
    "        self.bn5 = nn.BatchNorm2d(8)\n",
    "        self.pool2 = nn.MaxPool2d(2, 2) # 14 > 7 | 18\n",
    "        self.conv6 = nn.Conv2d(8, 4, 3) # 7 > 5 |26\n",
    "        self.bn6 = nn.BatchNorm2d(4) \n",
    "        self.conv7 = nn.Conv2d(4, 16, 3) # 5 > 3 | 32 | 3*3*1024 | 3x3x1024x10 |\n",
    "        self.conv8 = nn.Conv2d(16, 10, 3) # 3 > 1 | 34 | > 1x1x10\n",
    "        self.gap = nn.Sequential(\n",
    "            nn.AvgPool2d(kernel_size=3) # 7>> 9... nn.AdaptiveAvgPool((1, 1))\n",
    "        ) # output_size = 1\n",
    "        self.fc0 = nn.Linear(16, 100)\n",
    "        self.fc1 = nn.Linear(100, 10) #RF 28x28\n",
    "\n",
    "        self.dropout = nn.Dropout(0.1)\n",
    "\n",
    "    def forward(self, x):\n",
    "        x = self.pool1(self.dropout(F.relu(self.bn3(self.conv3(self.dropout(F.relu(self.bn2(self.conv2(self.dropout(F.relu(self.bn1(self.conv1(x)))))))))))))\n",
    "        x = self.pool2(self.dropout(F.relu(self.bn5(self.conv5(self.dropout(F.relu(self.bn4(self.conv4(x)))))))))\n",
    "        x = F.relu(self.conv7(self.dropout(F.relu(self.bn6(self.conv6(x))))))\n",
    "        # x = F.relu(self.conv7(x))\n",
    "        x = self.gap(x)  # Global average pooling\n",
    "        x = x.view(x.size(0), -1)  # Flatten\n",
    "        x = torch.relu(self.fc0(x))\n",
    "        x = self.fc1(x)\n",
    "        \n",
    "        return F.log_softmax(x, dim=-1)"
   ]
  },
  {
   "cell_type": "code",
   "execution_count": 42,
   "id": "35c7bd75",
   "metadata": {},
   "outputs": [],
   "source": [
    "class Net(nn.Module):\n",
    "    def __init__(self):\n",
    "        super(Net, self).__init__()\n",
    "        self.conv1 = nn.Conv2d(1, 12, 3, padding=1) # 28>28 | 3\n",
    "        self.bn1 = nn.BatchNorm2d(12)\n",
    "        self.conv2 = nn.Conv2d(12, 12, 3, padding=1) # 28 > 28 |  5\n",
    "        self.bn2 = nn.BatchNorm2d(12)\n",
    "        self.conv3 = nn.Conv2d(12, 12, 3, padding=1) # 28 > 28 |  7\n",
    "        self.bn3 = nn.BatchNorm2d(12)\n",
    "        self.pool1 = nn.MaxPool2d(2, 2) # 28 > 14 | 8\n",
    "        self.conv4 = nn.Conv2d(12, 4, 3, padding=1) # 14> 14 | 10\n",
    "        self.bn4 = nn.BatchNorm2d(4)\n",
    "        self.conv5 = nn.Conv2d(4, 4, 3, padding=1) #14 > 14 | 14\n",
    "        self.bn5 = nn.BatchNorm2d(4)\n",
    "        self.pool2 = nn.MaxPool2d(2, 2) # 14 > 7 | 18\n",
    "        self.conv6 = nn.Conv2d(4, 8, 3) # 7 > 5 |26\n",
    "        self.bn6 = nn.BatchNorm2d(8) \n",
    "        self.conv7 = nn.Conv2d(8, 16, 3) # 5 > 3 | 32 | 3*3*1024 | 3x3x1024x10 |\n",
    "        self.conv8 = nn.Conv2d(16, 10, 3) # 3 > 1 | 34 | > 1x1x10\n",
    "        self.gap = nn.Sequential(\n",
    "            nn.AvgPool2d(kernel_size=3) # 7>> 9... nn.AdaptiveAvgPool((1, 1))\n",
    "        ) # output_size = 1\n",
    "        self.fc0 = nn.Linear(16, 128)\n",
    "        self.fc1 = nn.Linear(128, 10) #RF 28x28\n",
    "\n",
    "        self.dropout = nn.Dropout(0.05)\n",
    "\n",
    "    def forward(self, x):\n",
    "        x = self.pool1(self.dropout(F.relu(self.bn3(self.conv3(self.dropout(F.relu(self.bn2(self.conv2(self.dropout(F.relu(self.bn1(self.conv1(x)))))))))))))\n",
    "        x = self.pool2(self.dropout(F.relu(self.bn5(self.conv5(self.dropout(F.relu(self.bn4(self.conv4(x)))))))))\n",
    "        x = F.relu(self.conv7(self.dropout(F.relu(self.bn6(self.conv6(x))))))\n",
    "        # x = F.relu(self.conv7(x))\n",
    "        x = self.gap(x)  # Global average pooling\n",
    "        x = x.view(x.size(0), -1)  # Flatten\n",
    "        x = torch.relu(self.fc0(x))\n",
    "        x = self.fc1(x)\n",
    "        \n",
    "        return F.log_softmax(x, dim=-1)"
   ]
  },
  {
   "cell_type": "markdown",
   "id": "6670ad87",
   "metadata": {},
   "source": [
    "# Model Params\n",
    "Can't emphasize on how important viewing Model Summary is.\n",
    "Unfortunately, there is no in-built model visualizer, so we have to take external help"
   ]
  },
  {
   "cell_type": "code",
   "execution_count": 43,
   "id": "464e64fe",
   "metadata": {},
   "outputs": [
    {
     "name": "stdout",
     "output_type": "stream",
     "text": [
      "cuda\n",
      "----------------------------------------------------------------\n",
      "        Layer (type)               Output Shape         Param #\n",
      "================================================================\n",
      "            Conv2d-1           [-1, 12, 28, 28]             120\n",
      "       BatchNorm2d-2           [-1, 12, 28, 28]              24\n",
      "           Dropout-3           [-1, 12, 28, 28]               0\n",
      "            Conv2d-4           [-1, 12, 28, 28]           1,308\n",
      "       BatchNorm2d-5           [-1, 12, 28, 28]              24\n",
      "           Dropout-6           [-1, 12, 28, 28]               0\n",
      "            Conv2d-7           [-1, 12, 28, 28]           1,308\n",
      "       BatchNorm2d-8           [-1, 12, 28, 28]              24\n",
      "           Dropout-9           [-1, 12, 28, 28]               0\n",
      "        MaxPool2d-10           [-1, 12, 14, 14]               0\n",
      "           Conv2d-11            [-1, 4, 14, 14]             436\n",
      "      BatchNorm2d-12            [-1, 4, 14, 14]               8\n",
      "          Dropout-13            [-1, 4, 14, 14]               0\n",
      "           Conv2d-14            [-1, 4, 14, 14]             148\n",
      "      BatchNorm2d-15            [-1, 4, 14, 14]               8\n",
      "          Dropout-16            [-1, 4, 14, 14]               0\n",
      "        MaxPool2d-17              [-1, 4, 7, 7]               0\n",
      "           Conv2d-18              [-1, 8, 5, 5]             296\n",
      "      BatchNorm2d-19              [-1, 8, 5, 5]              16\n",
      "          Dropout-20              [-1, 8, 5, 5]               0\n",
      "           Conv2d-21             [-1, 16, 3, 3]           1,168\n",
      "        AvgPool2d-22             [-1, 16, 1, 1]               0\n",
      "           Linear-23                  [-1, 128]           2,176\n",
      "           Linear-24                   [-1, 10]           1,290\n",
      "================================================================\n",
      "Total params: 8,354\n",
      "Trainable params: 8,354\n",
      "Non-trainable params: 0\n",
      "----------------------------------------------------------------\n",
      "Input size (MB): 0.00\n",
      "Forward/backward pass size (MB): 0.71\n",
      "Params size (MB): 0.03\n",
      "Estimated Total Size (MB): 0.74\n",
      "----------------------------------------------------------------\n",
      "## Model Details\n",
      "\n",
      "- Total Parameter Count: 8354\n",
      "\n",
      "- Use of Batch Normalization: Yes\n",
      "\n",
      "- Use of Dropout: Yes\n",
      "\n",
      "- Use of a Fully Connected Layer or Global Average Pooling: Yes\n",
      "\n"
     ]
    }
   ],
   "source": [
    "use_cuda = torch.cuda.is_available()\n",
    "device = torch.device(\"cuda\" if use_cuda else \"cpu\")\n",
    "print(device)\n",
    "model = Net().to(device)\n",
    "summary(model, input_size=(1, 28, 28))\n",
    "\n",
    "#Get total parameter count dynamically from summary output\n",
    "\n",
    "# Capture the summary output\n",
    "old_stdout = sys.stdout\n",
    "sys.stdout = captured_output = StringIO()\n",
    "summary(model, input_size=(1, 28, 28))\n",
    "sys.stdout = old_stdout\n",
    "\n",
    "summary_text = captured_output.getvalue()\n",
    "\n",
    "# Parse the summary text to find the total parameters\n",
    "total_params_line = [line for line in summary_text.splitlines() if \"Total params:\" in line]\n",
    "if total_params_line:\n",
    "    total_params_str = total_params_line[0].split(\":\")[1].strip().replace(\",\", \"\")\n",
    "    total_params = int(total_params_str)\n",
    "else:\n",
    "    # Fallback to manual calculation if parsing fails\n",
    "    total_params = sum(p.numel() for p in model.parameters())\n",
    "\n",
    "\n",
    "# Check for Batch Normalization\n",
    "has_batchnorm = any(isinstance(module, nn.BatchNorm2d) for module in model.modules())\n",
    "\n",
    "# Check for Dropout\n",
    "has_dropout = any(isinstance(module, nn.Dropout) for module in model.modules())\n",
    "\n",
    "# Check for Fully Connected Layer or Global Average Pooling\n",
    "has_fc = any(isinstance(module, nn.Linear) for module in model.modules())\n",
    "has_gap = any(isinstance(module, nn.AvgPool2d) or isinstance(module, nn.AdaptiveAvgPool2d) for module in model.modules())\n",
    "\n",
    "print(\"## Model Details\\n\")\n",
    "print(f\"- Total Parameter Count: {total_params}\\n\")\n",
    "print(f\"- Use of Batch Normalization: {'Yes' if has_batchnorm else 'No'}\\n\")\n",
    "print(f\"- Use of Dropout: {'Yes' if has_dropout else 'No'}\\n\")\n",
    "print(f\"- Use of a Fully Connected Layer or Global Average Pooling: {'Yes' if has_fc or has_gap else 'No'}\\n\")"
   ]
  },
  {
   "cell_type": "markdown",
   "id": "85b50580",
   "metadata": {},
   "source": [
    "\n",
    "# Training and Testing\n",
    "\n",
    "All right, so we have 6.3M params, and that's too many, we know that. But the purpose of this notebook is to set things right for our future experiments.\n",
    "\n",
    "Looking at logs can be boring, so we'll introduce **tqdm** progressbar to get cooler logs.\n",
    "\n",
    "Let's write train and test functions\n",
    "\n",
    "\n"
   ]
  },
  {
   "cell_type": "code",
   "execution_count": 44,
   "id": "ade0d745",
   "metadata": {},
   "outputs": [],
   "source": [
    "train_losses = []\n",
    "test_losses = []\n",
    "train_acc = []\n",
    "test_acc = []\n",
    "\n",
    "def train(model, device, train_loader, optimizer, epoch):\n",
    "  model.train()\n",
    "  pbar = tqdm(train_loader)\n",
    "  correct = 0\n",
    "  processed = 0\n",
    "  for batch_idx, (data, target) in enumerate(pbar):\n",
    "    # get samples\n",
    "    data, target = data.to(device), target.to(device)\n",
    "\n",
    "    # Init\n",
    "    optimizer.zero_grad()\n",
    "    # In PyTorch, we need to set the gradients to zero before starting to do backpropragation because PyTorch accumulates the gradients on subsequent backward passes.\n",
    "    # Because of this, when you start your training loop, ideally you should zero out the gradients so that you do the parameter update correctly.\n",
    "\n",
    "    # Predict\n",
    "    y_pred = model(data)\n",
    "\n",
    "    # Calculate loss\n",
    "    loss = F.nll_loss(y_pred, target)\n",
    "    train_losses.append(loss)\n",
    "\n",
    "    # Backpropagation\n",
    "    loss.backward()\n",
    "    optimizer.step()\n",
    "\n",
    "    # Update pbar-tqdm\n",
    "\n",
    "    pred = y_pred.argmax(dim=1, keepdim=True)  # get the index of the max log-probability\n",
    "    correct += pred.eq(target.view_as(pred)).sum().item()\n",
    "    processed += len(data)\n",
    "\n",
    "    pbar.set_description(desc= f'Loss={loss.item()} Batch_id={batch_idx} Accuracy={100*correct/processed:0.2f}')\n",
    "    train_acc.append(100*correct/processed)\n",
    "\n",
    "\n",
    "\n"
   ]
  },
  {
   "cell_type": "code",
   "execution_count": 45,
   "id": "01d4c48a",
   "metadata": {},
   "outputs": [],
   "source": [
    "def test(model, device, test_loader):\n",
    "    model.eval()\n",
    "    test_loss = 0\n",
    "    correct = 0\n",
    "    with torch.no_grad():\n",
    "        for data, target in test_loader:\n",
    "            data, target = data.to(device), target.to(device)\n",
    "            output = model(data)\n",
    "            test_loss += F.nll_loss(output, target, reduction='sum').item()  # sum up batch loss\n",
    "            pred = output.argmax(dim=1, keepdim=True)  # get the index of the max log-probability\n",
    "            correct += pred.eq(target.view_as(pred)).sum().item()\n",
    "\n",
    "    test_loss /= len(test_loader.dataset)\n",
    "    test_losses.append(test_loss)\n",
    "\n",
    "    print('\\nTest set: Average loss: {:.4f}, Accuracy: {}/{} ({:.2f}%)\\n'.format(\n",
    "        test_loss, correct, len(test_loader.dataset),\n",
    "        100. * correct / len(test_loader.dataset)))\n",
    "\n",
    "    test_acc.append(100. * correct / len(test_loader.dataset))"
   ]
  },
  {
   "cell_type": "code",
   "execution_count": 46,
   "id": "ed23a8ee",
   "metadata": {},
   "outputs": [
    {
     "name": "stdout",
     "output_type": "stream",
     "text": [
      "EPOCH: 0\n"
     ]
    },
    {
     "name": "stderr",
     "output_type": "stream",
     "text": [
      "Loss=0.3151189982891083 Batch_id=117 Accuracy=70.18: 100%|██████████| 118/118 [00:07<00:00, 16.73it/s] \n"
     ]
    },
    {
     "name": "stdout",
     "output_type": "stream",
     "text": [
      "\n",
      "Test set: Average loss: 0.1700, Accuracy: 9452/10000 (94.52%)\n",
      "\n",
      "EPOCH: 1\n"
     ]
    },
    {
     "name": "stderr",
     "output_type": "stream",
     "text": [
      "Loss=0.14713867008686066 Batch_id=117 Accuracy=95.30: 100%|██████████| 118/118 [00:06<00:00, 17.17it/s]\n"
     ]
    },
    {
     "name": "stdout",
     "output_type": "stream",
     "text": [
      "\n",
      "Test set: Average loss: 0.1191, Accuracy: 9606/10000 (96.06%)\n",
      "\n",
      "EPOCH: 2\n"
     ]
    },
    {
     "name": "stderr",
     "output_type": "stream",
     "text": [
      "Loss=0.15981262922286987 Batch_id=117 Accuracy=96.54: 100%|██████████| 118/118 [00:06<00:00, 17.12it/s]\n"
     ]
    },
    {
     "name": "stdout",
     "output_type": "stream",
     "text": [
      "\n",
      "Test set: Average loss: 0.0722, Accuracy: 9787/10000 (97.87%)\n",
      "\n",
      "EPOCH: 3\n"
     ]
    },
    {
     "name": "stderr",
     "output_type": "stream",
     "text": [
      "Loss=0.030135663226246834 Batch_id=117 Accuracy=97.26: 100%|██████████| 118/118 [00:06<00:00, 17.15it/s]\n"
     ]
    },
    {
     "name": "stdout",
     "output_type": "stream",
     "text": [
      "\n",
      "Test set: Average loss: 0.0902, Accuracy: 9708/10000 (97.08%)\n",
      "\n",
      "EPOCH: 4\n"
     ]
    },
    {
     "name": "stderr",
     "output_type": "stream",
     "text": [
      "Loss=0.025582874193787575 Batch_id=117 Accuracy=97.44: 100%|██████████| 118/118 [00:07<00:00, 16.42it/s]\n"
     ]
    },
    {
     "name": "stdout",
     "output_type": "stream",
     "text": [
      "\n",
      "Test set: Average loss: 0.0627, Accuracy: 9797/10000 (97.97%)\n",
      "\n",
      "EPOCH: 5\n"
     ]
    },
    {
     "name": "stderr",
     "output_type": "stream",
     "text": [
      "Loss=0.041373614221811295 Batch_id=117 Accuracy=97.72: 100%|██████████| 118/118 [00:08<00:00, 14.52it/s]\n"
     ]
    },
    {
     "name": "stdout",
     "output_type": "stream",
     "text": [
      "\n",
      "Test set: Average loss: 0.0893, Accuracy: 9748/10000 (97.48%)\n",
      "\n",
      "EPOCH: 6\n"
     ]
    },
    {
     "name": "stderr",
     "output_type": "stream",
     "text": [
      "Loss=0.08556323498487473 Batch_id=117 Accuracy=97.88: 100%|██████████| 118/118 [00:06<00:00, 17.20it/s] \n"
     ]
    },
    {
     "name": "stdout",
     "output_type": "stream",
     "text": [
      "\n",
      "Test set: Average loss: 0.0700, Accuracy: 9769/10000 (97.69%)\n",
      "\n",
      "EPOCH: 7\n"
     ]
    },
    {
     "name": "stderr",
     "output_type": "stream",
     "text": [
      "Loss=0.02268647402524948 Batch_id=117 Accuracy=97.96: 100%|██████████| 118/118 [00:06<00:00, 17.16it/s] \n"
     ]
    },
    {
     "name": "stdout",
     "output_type": "stream",
     "text": [
      "\n",
      "Test set: Average loss: 0.0480, Accuracy: 9845/10000 (98.45%)\n",
      "\n",
      "EPOCH: 8\n"
     ]
    },
    {
     "name": "stderr",
     "output_type": "stream",
     "text": [
      "Loss=0.07742948830127716 Batch_id=117 Accuracy=97.94: 100%|██████████| 118/118 [00:06<00:00, 17.15it/s] \n"
     ]
    },
    {
     "name": "stdout",
     "output_type": "stream",
     "text": [
      "\n",
      "Test set: Average loss: 0.0694, Accuracy: 9783/10000 (97.83%)\n",
      "\n",
      "EPOCH: 9\n"
     ]
    },
    {
     "name": "stderr",
     "output_type": "stream",
     "text": [
      "Loss=0.017913833260536194 Batch_id=117 Accuracy=98.06: 100%|██████████| 118/118 [00:09<00:00, 11.81it/s]\n"
     ]
    },
    {
     "name": "stdout",
     "output_type": "stream",
     "text": [
      "\n",
      "Test set: Average loss: 0.0392, Accuracy: 9883/10000 (98.83%)\n",
      "\n",
      "EPOCH: 10\n"
     ]
    },
    {
     "name": "stderr",
     "output_type": "stream",
     "text": [
      "Loss=0.10852032899856567 Batch_id=117 Accuracy=98.54: 100%|██████████| 118/118 [00:06<00:00, 17.36it/s] \n"
     ]
    },
    {
     "name": "stdout",
     "output_type": "stream",
     "text": [
      "\n",
      "Test set: Average loss: 0.0369, Accuracy: 9884/10000 (98.84%)\n",
      "\n",
      "EPOCH: 11\n"
     ]
    },
    {
     "name": "stderr",
     "output_type": "stream",
     "text": [
      "Loss=0.035949088633060455 Batch_id=117 Accuracy=98.64: 100%|██████████| 118/118 [00:06<00:00, 17.56it/s]\n"
     ]
    },
    {
     "name": "stdout",
     "output_type": "stream",
     "text": [
      "\n",
      "Test set: Average loss: 0.0383, Accuracy: 9881/10000 (98.81%)\n",
      "\n",
      "EPOCH: 12\n"
     ]
    },
    {
     "name": "stderr",
     "output_type": "stream",
     "text": [
      "Loss=0.08099521696567535 Batch_id=117 Accuracy=98.57: 100%|██████████| 118/118 [00:06<00:00, 16.99it/s] \n"
     ]
    },
    {
     "name": "stdout",
     "output_type": "stream",
     "text": [
      "\n",
      "Test set: Average loss: 0.0365, Accuracy: 9889/10000 (98.89%)\n",
      "\n",
      "EPOCH: 13\n"
     ]
    },
    {
     "name": "stderr",
     "output_type": "stream",
     "text": [
      "Loss=0.05361650511622429 Batch_id=117 Accuracy=98.60: 100%|██████████| 118/118 [00:08<00:00, 13.70it/s] \n"
     ]
    },
    {
     "name": "stdout",
     "output_type": "stream",
     "text": [
      "\n",
      "Test set: Average loss: 0.0350, Accuracy: 9892/10000 (98.92%)\n",
      "\n",
      "EPOCH: 14\n"
     ]
    },
    {
     "name": "stderr",
     "output_type": "stream",
     "text": [
      "Loss=0.052563924342393875 Batch_id=117 Accuracy=98.57: 100%|██████████| 118/118 [00:10<00:00, 11.46it/s]\n"
     ]
    },
    {
     "name": "stdout",
     "output_type": "stream",
     "text": [
      "\n",
      "Test set: Average loss: 0.0374, Accuracy: 9884/10000 (98.84%)\n",
      "\n",
      "EPOCH: 15\n"
     ]
    },
    {
     "name": "stderr",
     "output_type": "stream",
     "text": [
      "Loss=0.018200799822807312 Batch_id=117 Accuracy=98.64: 100%|██████████| 118/118 [00:06<00:00, 17.01it/s]\n"
     ]
    },
    {
     "name": "stdout",
     "output_type": "stream",
     "text": [
      "\n",
      "Test set: Average loss: 0.0358, Accuracy: 9895/10000 (98.95%)\n",
      "\n",
      "EPOCH: 16\n"
     ]
    },
    {
     "name": "stderr",
     "output_type": "stream",
     "text": [
      "Loss=0.030660277232527733 Batch_id=117 Accuracy=98.64: 100%|██████████| 118/118 [00:06<00:00, 17.59it/s]\n"
     ]
    },
    {
     "name": "stdout",
     "output_type": "stream",
     "text": [
      "\n",
      "Test set: Average loss: 0.0342, Accuracy: 9894/10000 (98.94%)\n",
      "\n",
      "EPOCH: 17\n"
     ]
    },
    {
     "name": "stderr",
     "output_type": "stream",
     "text": [
      "Loss=0.009638939052820206 Batch_id=117 Accuracy=98.66: 100%|██████████| 118/118 [00:06<00:00, 17.41it/s]\n"
     ]
    },
    {
     "name": "stdout",
     "output_type": "stream",
     "text": [
      "\n",
      "Test set: Average loss: 0.0359, Accuracy: 9891/10000 (98.91%)\n",
      "\n",
      "EPOCH: 18\n"
     ]
    },
    {
     "name": "stderr",
     "output_type": "stream",
     "text": [
      "Loss=0.04455886408686638 Batch_id=117 Accuracy=98.66: 100%|██████████| 118/118 [00:07<00:00, 16.24it/s] \n"
     ]
    },
    {
     "name": "stdout",
     "output_type": "stream",
     "text": [
      "\n",
      "Test set: Average loss: 0.0355, Accuracy: 9887/10000 (98.87%)\n",
      "\n",
      "EPOCH: 19\n"
     ]
    },
    {
     "name": "stderr",
     "output_type": "stream",
     "text": [
      "Loss=0.04634520411491394 Batch_id=117 Accuracy=98.59: 100%|██████████| 118/118 [00:08<00:00, 14.18it/s] \n"
     ]
    },
    {
     "name": "stdout",
     "output_type": "stream",
     "text": [
      "\n",
      "Test set: Average loss: 0.0364, Accuracy: 9881/10000 (98.81%)\n",
      "\n"
     ]
    }
   ],
   "source": [
    "# Let's Train and test our model\n",
    "model =  Net().to(device)\n",
    "optimizer = optim.SGD(model.parameters(), lr=0.2, momentum=0.8)\n",
    "scheduler = StepLR(optimizer, step_size=10, gamma=0.1)\n",
    "\n",
    "\n",
    "EPOCHS = 20\n",
    "for epoch in range(EPOCHS):\n",
    "    print(\"EPOCH:\", epoch)\n",
    "    train(model, device, train_loader, optimizer, epoch)\n",
    "    scheduler.step()\n",
    "    test(model, device, test_loader)\n",
    "\n",
    "\n",
    "\n",
    "\n"
   ]
  },
  {
   "cell_type": "code",
   "execution_count": 45,
   "id": "fd1cd251",
   "metadata": {},
   "outputs": [
    {
     "data": {
      "text/plain": [
       "Text(0.5, 1.0, 'Test Accuracy')"
      ]
     },
     "execution_count": 45,
     "metadata": {},
     "output_type": "execute_result"
    },
    {
     "data": {
      "image/png": "[encoded data removed]",
      "text/plain": [
       "<Figure size 1500x1000 with 4 Axes>"
      ]
     },
     "metadata": {},
     "output_type": "display_data"
    }
   ],
   "source": [
    "#train_losses\n",
    "\n",
    "t = [t_items.item() for t_items in train_losses]\n",
    "\n",
    "fig, axs = plt.subplots(2,2,figsize=(15,10))\n",
    "axs[0, 0].plot(t)\n",
    "axs[0, 0].set_title(\"Training Loss\")\n",
    "axs[1, 0].plot(train_acc)\n",
    "axs[1, 0].set_title(\"Training Accuracy\")\n",
    "axs[0, 1].plot(test_losses)\n",
    "axs[0, 1].set_title(\"Test Loss\")\n",
    "axs[1, 1].plot(test_acc)\n",
    "axs[1, 1].set_title(\"Test Accuracy\")"
   ]
  },
  {
   "cell_type": "code",
   "execution_count": null,
   "id": "4d6eaebb",
   "metadata": {},
   "outputs": [],
   "source": []
  }
 ],
 "metadata": {
  "kernelspec": {
   "display_name": "Python 3",
   "language": "python",
   "name": "python3"
  },
  "language_info": {
   "codemirror_mode": {
    "name": "ipython",
    "version": 3
   },
   "file_extension": ".py",
   "mimetype": "text/x-python",
   "name": "python",
   "nbconvert_exporter": "python",
   "pygments_lexer": "ipython3",
   "version": "3.13.7"
  }
 },
 "nbformat": 4,
 "nbformat_minor": 5
}
