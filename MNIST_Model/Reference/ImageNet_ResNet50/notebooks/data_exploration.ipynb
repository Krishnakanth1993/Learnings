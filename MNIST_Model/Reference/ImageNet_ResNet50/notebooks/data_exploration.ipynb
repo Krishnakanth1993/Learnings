{
  "cells": [
    {
      "cell_type": "markdown",
      "metadata": {},
      "source": [
        "# ImageNet Data Exploration\n",
        "Explore ImageNet dataset, verify stratified sampling, and run LR Finder.\n"
      ]
    },
    {
      "cell_type": "code",
      "execution_count": null,
      "metadata": {},
      "outputs": [],
      "source": [
        "import sys\n",
        "sys.path.append('..')\n",
        "\n",
        "import torch\n",
        "import matplotlib.pyplot as plt\n",
        "import numpy as np\n",
        "from PIL import Image\n",
        "\n",
        "from core.config import Config\n",
        "from core.logger import Logger\n",
        "from core.data_manager import ImageNetDataManager\n",
        "from core.model import ResNet50\n",
        "from services.lr_finder import LRFinder\n",
        "\n",
        "%matplotlib inline\n"
      ]
    }
  ],
  "metadata": {
    "language_info": {
      "name": "python"
    }
  },
  "nbformat": 4,
  "nbformat_minor": 2
}
