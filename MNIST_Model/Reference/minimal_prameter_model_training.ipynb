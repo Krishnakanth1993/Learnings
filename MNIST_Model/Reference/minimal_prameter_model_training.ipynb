{
  "cells": [
    {
      "cell_type": "markdown",
      "metadata": {
        "id": "view-in-github",
        "colab_type": "text"
      },
      "source": [
        "<a href=\"https://colab.research.google.com/github/Krishnakanth1993/Learnings/blob/main/MNIST_Model/Reference/minimal_prameter_model_training.ipynb\" target=\"_parent\"><img src=\"https://colab.research.google.com/assets/colab-badge.svg\" alt=\"Open In Colab\"/></a>"
      ]
    },
    {
      "cell_type": "code",
      "execution_count": 17,
      "id": "71979988",
      "metadata": {
        "id": "71979988"
      },
      "outputs": [],
      "source": [
        "import torch\n",
        "import torch.nn as nn\n",
        "import torch.nn.functional as F\n",
        "import torch.optim as optim\n",
        "from torch.utils.data import DataLoader, random_split\n",
        "from torchvision import datasets, transforms\n",
        "import matplotlib.pyplot as plt\n",
        "from tqdm import tqdm\n",
        "from torchsummary import summary"
      ]
    },
    {
      "cell_type": "code",
      "execution_count": 18,
      "id": "8a1e6168",
      "metadata": {
        "colab": {
          "base_uri": "https://localhost:8080/"
        },
        "id": "8a1e6168",
        "outputId": "6f03538f-654c-4da1-b672-ee0ca8cb12b7"
      },
      "outputs": [
        {
          "output_type": "stream",
          "name": "stdout",
          "text": [
            "CUDA Available? True\n"
          ]
        }
      ],
      "source": [
        "# CUDA?\n",
        "cuda = torch.cuda.is_available()\n",
        "print(\"CUDA Available?\", cuda)"
      ]
    },
    {
      "cell_type": "markdown",
      "id": "fdaddb2b",
      "metadata": {
        "id": "fdaddb2b"
      },
      "source": [
        "# **Understanding the Data**"
      ]
    },
    {
      "cell_type": "code",
      "execution_count": 19,
      "id": "086f9258",
      "metadata": {
        "colab": {
          "base_uri": "https://localhost:8080/"
        },
        "id": "086f9258",
        "outputId": "3c7f42ed-c22a-4fa0-ac35-c78b53b238da"
      },
      "outputs": [
        {
          "output_type": "stream",
          "name": "stdout",
          "text": [
            "Mean: 0.1307, Std: 0.3015 ,Total_images: 60000\n"
          ]
        }
      ],
      "source": [
        "# Load MNIST training data without normalization\n",
        "train_data = datasets.MNIST('../data', train=True, download=True, transform=transforms.ToTensor())\n",
        "train_loader = DataLoader(train_data, batch_size=1024, shuffle=False)\n",
        "\n",
        "# Compute mean and std\n",
        "mean = 0.0\n",
        "std = 0.0\n",
        "total_images = 0\n",
        "\n",
        "for images, _ in train_loader:\n",
        "    batch_samples = images.size(0)  # Number of images in batch\n",
        "    images = images.view(batch_samples, -1)  # Flatten: [batch_size, 1, 28, 28] -> [batch_size, 784]\n",
        "    mean += images.mean(dim=1).sum().item()  # Sum mean across pixels for each image\n",
        "    std += images.std(dim=1).sum().item()  # Sum std across pixels for each image\n",
        "    total_images += batch_samples\n",
        "\n",
        "mean /= total_images\n",
        "std /= total_images\n",
        "\n",
        "print(f'Mean: {mean:.4f}, Std: {std:.4f} ,Total_images: {total_images}')"
      ]
    },
    {
      "cell_type": "code",
      "execution_count": 20,
      "id": "c4eadf10",
      "metadata": {
        "colab": {
          "base_uri": "https://localhost:8080/"
        },
        "id": "c4eadf10",
        "outputId": "727e1650-03d2-46df-bab9-bbeace9d7e2d"
      },
      "outputs": [
        {
          "output_type": "stream",
          "name": "stdout",
          "text": [
            "Shape of a tensor in the batch: torch.Size([1024, 1, 28, 28])\n",
            "Shape of a tensor in the batch: torch.Size([1024])\n"
          ]
        }
      ],
      "source": [
        "dataloader_iterator = iter(train_loader)\n",
        "batch_data = next(dataloader_iterator)\n",
        "\n",
        "for item in batch_data:\n",
        "  if isinstance(item, torch.Tensor):\n",
        "      #print(item)\n",
        "      print(f\"Shape of a tensor in the batch: {item.shape}\")\n",
        "  else:\n",
        "      #print(item)\n",
        "      print(f\"Type of item in batch: {type(item)}\")"
      ]
    },
    {
      "cell_type": "markdown",
      "id": "8c0c326a",
      "metadata": {
        "id": "8c0c326a"
      },
      "source": [
        "# **Data Loading & Preprocessing**"
      ]
    },
    {
      "cell_type": "code",
      "execution_count": 53,
      "id": "fdfd331a",
      "metadata": {
        "id": "fdfd331a"
      },
      "outputs": [],
      "source": [
        "# Train data transformations\n",
        "train_transforms = transforms.Compose([\n",
        "    transforms.RandomApply([transforms.CenterCrop(22), ], p=0.1),\n",
        "    transforms.Resize((28, 28)),\n",
        "    transforms.RandomRotation((-15., 15.), fill=0),\n",
        "    transforms.ToTensor(),\n",
        "    transforms.Normalize((0.1307,), (0.3081,)),\n",
        "    ])\n",
        "\n",
        "val_transforms = transforms.Compose([\n",
        "    transforms.ToTensor(),  # Only ToTensor for validation\n",
        "    transforms.Normalize((0.1307,), (0.3081,)),\n",
        "])\n",
        "\n",
        "# Test data transformations\n",
        "test_transforms = transforms.Compose([\n",
        "    transforms.ToTensor(),\n",
        "    #transforms.Normalize((0.1407,), (0.4081,)) # Mean: 0.1307, Std: 0.3015 ,Total_images: 60000 . Normalization must be uniform between train and test.\n",
        "    transforms.Normalize((0.1307,), (0.3081,)),\n",
        "    ])"
      ]
    },
    {
      "cell_type": "code",
      "execution_count": 54,
      "id": "a055412c",
      "metadata": {
        "id": "a055412c"
      },
      "outputs": [],
      "source": [
        "full_train_data = datasets.MNIST('../data', train=True, download=True, transform=train_transforms)\n",
        "#Split the full train dataset into train and validate (e.g., 50k train, 10k validate)\n",
        "train_size = 50000\n",
        "val_size = len(full_train_data) - train_size  # 10000\n",
        "train_data, val_data = random_split(full_train_data, [train_size, val_size])\n",
        "\n",
        "# Set a seed for reproducibility (optional)\n",
        "torch.manual_seed(42)  # Apply before split if you want consistent results\n",
        "\n",
        "# Apply validation transforms to val_dataset (workaround since random_split inherits train_transforms)\n",
        "val_data.dataset.transform = val_transforms\n",
        "\n",
        "\n",
        "test_data = datasets.MNIST('../data', train=False, download=True, transform=test_transforms)"
      ]
    },
    {
      "cell_type": "code",
      "execution_count": 55,
      "id": "977d3bb5",
      "metadata": {
        "id": "977d3bb5"
      },
      "outputs": [],
      "source": [
        "batch_size = 1024\n",
        "\n",
        "kwargs = {'batch_size': batch_size, 'shuffle': True, 'num_workers': 2, 'pin_memory': True}\n",
        "\n",
        "test_loader = torch.utils.data.DataLoader(test_data, **kwargs)\n",
        "val_loader = torch.utils.data.DataLoader(val_data, **kwargs)\n",
        "train_loader = torch.utils.data.DataLoader(train_data, **kwargs)"
      ]
    },
    {
      "cell_type": "code",
      "source": [
        "print(f\"Length of Train dataset:{len(train_loader.dataset)}\")\n",
        "print(f\"Length of Validation dataset:{len(val_loader.dataset)}\")\n",
        "print(f\"Length of Test dataset:{len(test_loader.dataset)}\")"
      ],
      "metadata": {
        "colab": {
          "base_uri": "https://localhost:8080/"
        },
        "id": "rtSDS6gO4ccC",
        "outputId": "129ff939-a72b-4bfa-fcaa-b75fe9dc981d"
      },
      "id": "rtSDS6gO4ccC",
      "execution_count": 24,
      "outputs": [
        {
          "output_type": "stream",
          "name": "stdout",
          "text": [
            "Length of Train dataset:50000\n",
            "Length of Validation dataset:10000\n",
            "Length of Test dataset:10000\n"
          ]
        }
      ]
    },
    {
      "cell_type": "code",
      "execution_count": 25,
      "id": "e1221165",
      "metadata": {
        "colab": {
          "base_uri": "https://localhost:8080/",
          "height": 463
        },
        "id": "e1221165",
        "outputId": "f2571ec3-629e-4a82-90d9-90402b594885"
      },
      "outputs": [
        {
          "output_type": "display_data",
          "data": {
            "text/plain": [
              "<Figure size 640x480 with 12 Axes>"
            ],
            "image/png": "[encoded data removed]"
          },
          "metadata": {}
        }
      ],
      "source": [
        "batch_data, batch_label = next(iter(train_loader))\n",
        "\n",
        "fig = plt.figure()\n",
        "\n",
        "for i in range(12):\n",
        "  plt.subplot(3,4,i+1)\n",
        "  plt.tight_layout()\n",
        "  plt.imshow(batch_data[i].squeeze(0), cmap='gray')\n",
        "  plt.title(batch_label[i].item())\n",
        "  plt.xticks([])\n",
        "  plt.yticks([])"
      ]
    },
    {
      "cell_type": "code",
      "execution_count": 25,
      "id": "f07d7011",
      "metadata": {
        "id": "f07d7011"
      },
      "outputs": [],
      "source": []
    },
    {
      "cell_type": "markdown",
      "id": "aeae542d",
      "metadata": {
        "id": "aeae542d"
      },
      "source": [
        "# **Model Architecture**"
      ]
    },
    {
      "cell_type": "code",
      "execution_count": 79,
      "id": "93a44eee",
      "metadata": {
        "id": "93a44eee",
        "colab": {
          "base_uri": "https://localhost:8080/"
        },
        "outputId": "300ffae1-a736-45e7-9a13-877e69c815ef"
      },
      "outputs": [
        {
          "output_type": "stream",
          "name": "stdout",
          "text": [
            "----------------------------------------------------------------\n",
            "        Layer (type)               Output Shape         Param #\n",
            "================================================================\n",
            "            Conv2d-1           [-1, 28, 28, 28]             280\n",
            "       BatchNorm2d-2           [-1, 28, 28, 28]              56\n",
            "            Conv2d-3           [-1, 28, 28, 28]           7,084\n",
            "       BatchNorm2d-4           [-1, 28, 28, 28]              56\n",
            "           Dropout-5           [-1, 28, 14, 14]               0\n",
            "            Conv2d-6           [-1, 16, 14, 14]           4,048\n",
            "       BatchNorm2d-7           [-1, 16, 14, 14]              32\n",
            "            Conv2d-8           [-1, 16, 14, 14]           2,320\n",
            "       BatchNorm2d-9           [-1, 16, 14, 14]              32\n",
            "          Dropout-10             [-1, 16, 7, 7]               0\n",
            "           Conv2d-11              [-1, 8, 7, 7]           1,160\n",
            "      BatchNorm2d-12              [-1, 8, 7, 7]              16\n",
            "           Conv2d-13              [-1, 8, 7, 7]             584\n",
            "      BatchNorm2d-14              [-1, 8, 7, 7]              16\n",
            "          Dropout-15              [-1, 8, 7, 7]               0\n",
            "           Linear-16                   [-1, 10]           3,930\n",
            "================================================================\n",
            "Total params: 19,614\n",
            "Trainable params: 19,614\n",
            "Non-trainable params: 0\n",
            "----------------------------------------------------------------\n",
            "Input size (MB): 0.00\n",
            "Forward/backward pass size (MB): 0.83\n",
            "Params size (MB): 0.07\n",
            "Estimated Total Size (MB): 0.91\n",
            "----------------------------------------------------------------\n"
          ]
        }
      ],
      "source": [
        "class Net(nn.Module):\n",
        "    #This defines the structure of the NN.\n",
        "    def __init__(self, dropout_p=0.5):\n",
        "        super(Net, self).__init__()\n",
        "        self.conv1 = nn.Conv2d(1, 28, kernel_size=3, padding=1) #28x28x1  | (3x3x1)32 | 28x28x32 RF 3x3\n",
        "        self.bn1 = nn.BatchNorm2d(28)\n",
        "        self.conv2 = nn.Conv2d(28, 28, kernel_size=3, padding=1) #28x28x32 | (3x3x32)x32 | 28x28x32 RF 5x5\n",
        "        self.bn2 = nn.BatchNorm2d(28)\n",
        "        self.conv3 = nn.Conv2d(28, 16, kernel_size=3, padding=1) #14x14x32 | (3x3x32)x16 | 14x14x16 RF 10x10\n",
        "        self.bn3 = nn.BatchNorm2d(16)\n",
        "        self.conv4 = nn.Conv2d(16, 16, kernel_size=3, padding=1) #14x14x16  | (3x3x16)16 | 14x14x16 RF 12x12\n",
        "        self.bn4 = nn.BatchNorm2d(16)\n",
        "        self.conv5 = nn.Conv2d(16, 8, kernel_size=3, padding=1) #7x7x16  | (3x3x16)x8 | 7x7x8 RF 24x24\n",
        "        self.bn5 = nn.BatchNorm2d(8)\n",
        "        self.conv6 = nn.Conv2d(8, 8, kernel_size=3, padding=1) #7x7x8 | (3x3x8)x8 | 7x7x8 RF 26x26\n",
        "        self.bn6 = nn.BatchNorm2d(8)\n",
        "        self.dropout = nn.Dropout(p=dropout_p)  # Dropout layer\n",
        "        self.fc1 = nn.Linear(8 * 7 * 7, 10) #RF 26x26\n",
        "\n",
        "    def forward(self, x):\n",
        "        x = self.bn1(self.conv1(x))\n",
        "        x = F.relu(x)\n",
        "        x = self.bn2(self.conv2(x))\n",
        "        x = F.relu(x)\n",
        "        x = F.max_pool2d(x, 2)\n",
        "        x = self.dropout(x)  # Apply dropout before the final layer\n",
        "        x = self.bn3(self.conv3(x))\n",
        "        x = F.relu(x)\n",
        "        x = self.bn4(self.conv4(x))\n",
        "        x = F.relu(x)\n",
        "        x = F.max_pool2d(x, 2)\n",
        "        x = self.dropout(x)  # Apply dropout before the final layer\n",
        "        x = self.bn5(self.conv5(x))\n",
        "        x = F.relu(x)\n",
        "        x = self.bn6(self.conv6(x))\n",
        "        x = F.relu(x)\n",
        "        x = self.dropout(x)  # Apply dropout before the final layer\n",
        "        x = x.view(-1, 8 * 7 * 7)\n",
        "        x = self.fc1(x)\n",
        "        return F.log_softmax(x, dim=1)\n",
        "\n",
        "use_cuda = torch.cuda.is_available()\n",
        "device = torch.device(\"cuda\" if use_cuda else \"cpu\")\n",
        "model = Net().to(device)\n",
        "summary(model, input_size=(1, 28, 28))"
      ]
    },
    {
      "cell_type": "code",
      "execution_count": 77,
      "id": "da44da61",
      "metadata": {
        "id": "da44da61"
      },
      "outputs": [],
      "source": [
        "# CNN model (unchanged, as dimensions align)\n",
        "class Net(nn.Module):\n",
        "    def __init__(self):\n",
        "        super(Net, self).__init__()\n",
        "        self.conv1 = nn.Conv2d(1, 10, kernel_size=5, stride=1, padding=2)\n",
        "        self.conv2 = nn.Conv2d(10, 10, kernel_size=5, stride=1, padding=2)\n",
        "        self.pool1 = nn.MaxPool2d(kernel_size=2, stride=2)\n",
        "        self.conv3 = nn.Conv2d(10, 16, kernel_size=5, stride=1, padding=2)\n",
        "        self.conv4 = nn.Conv2d(16, 16, kernel_size=5, stride=1, padding=2)\n",
        "        self.pool2 = nn.MaxPool2d(kernel_size=3, stride=3)\n",
        "        self.fc = nn.Linear(16 * 4 * 4, 10)  # 4x4x16 = 256\n",
        "        self.relu = nn.ReLU()\n",
        "\n",
        "    def forward(self, x):\n",
        "        x = self.relu(self.conv1(x))  # 28x28x10\n",
        "        x = self.relu(self.conv2(x))  # 28x28x10\n",
        "        x = self.pool1(x)  # 14x14x10\n",
        "        x = self.relu(self.conv3(x))  # 14x14x16\n",
        "        x = self.relu(self.conv4(x))  # 14x14x16\n",
        "        x = self.pool2(x)  # 4x4x16\n",
        "        x = x.view(-1, 16 * 4 * 4)  # Flatten to 256\n",
        "        x = self.fc(x)  # 10 classes\n",
        "        return x\n",
        "\n"
      ]
    },
    {
      "cell_type": "markdown",
      "id": "d8eab0e3",
      "metadata": {
        "id": "d8eab0e3"
      },
      "source": [
        "# Training Setup"
      ]
    },
    {
      "cell_type": "code",
      "execution_count": 27,
      "id": "df76a833",
      "metadata": {
        "id": "df76a833"
      },
      "outputs": [],
      "source": [
        "# Data to plot accuracy and loss graphs\n",
        "train_losses = []\n",
        "validation_losses = []\n",
        "test_losses = []\n",
        "train_acc = []\n",
        "validation_acc = []\n",
        "test_acc = []\n",
        "\n",
        "test_incorrect_pred = {'images': [], 'ground_truths': [], 'predicted_vals': []}"
      ]
    },
    {
      "cell_type": "code",
      "execution_count": 28,
      "id": "174223af",
      "metadata": {
        "id": "174223af"
      },
      "outputs": [],
      "source": [
        "# Define GetCorrectPredCount\n",
        "def GetCorrectPredCount(pPrediction, pLabels):\n",
        "    return pPrediction.argmax(dim=1).eq(pLabels).sum().item()\n",
        "\n",
        "# Training function\n",
        "def train(model, device, train_loader, optimizer, criterion):\n",
        "    model.train()\n",
        "    pbar = tqdm(train_loader)\n",
        "    train_loss = 0\n",
        "    correct = 0\n",
        "    processed = 0\n",
        "\n",
        "    for batch_idx, (data, target) in enumerate(pbar):\n",
        "        data, target = data.to(device), target.to(device)\n",
        "        optimizer.zero_grad()\n",
        "\n",
        "        # Predict\n",
        "        pred = model(data)\n",
        "\n",
        "        # Calculate loss\n",
        "        loss = criterion(pred, target)  # Shape: [batch_size]\n",
        "        train_loss += loss.sum().item()  # Sum per-sample losses for reporting\n",
        "        loss = loss.mean()  # Average for backpropagation\n",
        "        loss.backward()\n",
        "        optimizer.step()\n",
        "\n",
        "        correct += GetCorrectPredCount(pred, target)\n",
        "        processed += len(data)\n",
        "\n",
        "        pbar.set_description(desc=f'Train: Loss={loss.item():0.4f} Batch_id={batch_idx} Accuracy={100*correct/processed:0.2f}')\n",
        "\n",
        "    train_acc.append(100 * correct / processed)\n",
        "    train_losses.append(train_loss / len(train_loader.dataset))  # Average per sample\n",
        "\n",
        "# Generalized evaluation function for validation or testing\n",
        "def evaluate(model, device, loader, criterion, set_name=\"Test\", losses=None, accuracies=None):\n",
        "    model.eval()\n",
        "    total_loss = 0\n",
        "    correct = 0\n",
        "    total_samples = len(loader.dataset)\n",
        "\n",
        "    with torch.no_grad():\n",
        "        for data, target in loader:\n",
        "            data, target = data.to(device), target.to(device)\n",
        "            output = model(data)\n",
        "            loss = criterion(output, target)  # Per-sample loss\n",
        "            total_loss += loss.sum().item()  # Sum per-sample losses\n",
        "            correct += GetCorrectPredCount(output, target)\n",
        "\n",
        "    avg_loss = total_loss / total_samples\n",
        "    accuracy = 100. * correct / total_samples\n",
        "\n",
        "    # Store metrics if lists are provided\n",
        "    if losses is not None:\n",
        "        losses.append(avg_loss)\n",
        "    if accuracies is not None:\n",
        "        accuracies.append(accuracy)\n",
        "\n",
        "    print(f'{set_name} set: Average loss: {avg_loss:.4f}, Accuracy: {correct}/{total_samples} ({accuracy:.2f}%)')\n",
        "\n",
        "    return avg_loss, accuracy"
      ]
    },
    {
      "cell_type": "code",
      "execution_count": 80,
      "id": "3bd2dd6c",
      "metadata": {
        "colab": {
          "base_uri": "https://localhost:8080/"
        },
        "id": "3bd2dd6c",
        "outputId": "3654e920-d0eb-4725-a2d2-12662184ed6b"
      },
      "outputs": [
        {
          "output_type": "stream",
          "name": "stdout",
          "text": [
            "Epoch 1\n"
          ]
        },
        {
          "output_type": "stream",
          "name": "stderr",
          "text": [
            "Train: Loss=0.5084 Batch_id=48 Accuracy=62.95: 100%|██████████| 49/49 [00:08<00:00,  5.77it/s]\n"
          ]
        },
        {
          "output_type": "stream",
          "name": "stdout",
          "text": [
            "Validation set: Average loss: 0.4894, Accuracy: 9031/10000 (90.31%)\n",
            "Epoch 2\n"
          ]
        },
        {
          "output_type": "stream",
          "name": "stderr",
          "text": [
            "Train: Loss=0.2329 Batch_id=48 Accuracy=92.39: 100%|██████████| 49/49 [00:09<00:00,  5.43it/s]\n"
          ]
        },
        {
          "output_type": "stream",
          "name": "stdout",
          "text": [
            "Validation set: Average loss: 0.1411, Accuracy: 9628/10000 (96.28%)\n",
            "Epoch 3\n"
          ]
        },
        {
          "output_type": "stream",
          "name": "stderr",
          "text": [
            "Train: Loss=0.1204 Batch_id=48 Accuracy=95.55: 100%|██████████| 49/49 [00:09<00:00,  5.34it/s]\n"
          ]
        },
        {
          "output_type": "stream",
          "name": "stdout",
          "text": [
            "Validation set: Average loss: 0.0920, Accuracy: 9751/10000 (97.51%)\n",
            "Epoch 4\n"
          ]
        },
        {
          "output_type": "stream",
          "name": "stderr",
          "text": [
            "Train: Loss=0.1217 Batch_id=48 Accuracy=96.55: 100%|██████████| 49/49 [00:09<00:00,  5.37it/s]\n"
          ]
        },
        {
          "output_type": "stream",
          "name": "stdout",
          "text": [
            "Validation set: Average loss: 0.0709, Accuracy: 9793/10000 (97.93%)\n",
            "Epoch 5\n"
          ]
        },
        {
          "output_type": "stream",
          "name": "stderr",
          "text": [
            "Train: Loss=0.0876 Batch_id=48 Accuracy=97.15: 100%|██████████| 49/49 [00:09<00:00,  5.37it/s]\n"
          ]
        },
        {
          "output_type": "stream",
          "name": "stdout",
          "text": [
            "Validation set: Average loss: 0.0656, Accuracy: 9809/10000 (98.09%)\n",
            "Epoch 6\n"
          ]
        },
        {
          "output_type": "stream",
          "name": "stderr",
          "text": [
            "Train: Loss=0.0753 Batch_id=48 Accuracy=97.42: 100%|██████████| 49/49 [00:09<00:00,  5.09it/s]\n"
          ]
        },
        {
          "output_type": "stream",
          "name": "stdout",
          "text": [
            "Validation set: Average loss: 0.0546, Accuracy: 9827/10000 (98.27%)\n",
            "Epoch 7\n"
          ]
        },
        {
          "output_type": "stream",
          "name": "stderr",
          "text": [
            "Train: Loss=0.0519 Batch_id=48 Accuracy=97.63: 100%|██████████| 49/49 [00:08<00:00,  5.68it/s]\n"
          ]
        },
        {
          "output_type": "stream",
          "name": "stdout",
          "text": [
            "Validation set: Average loss: 0.0501, Accuracy: 9847/10000 (98.47%)\n",
            "Epoch 8\n"
          ]
        },
        {
          "output_type": "stream",
          "name": "stderr",
          "text": [
            "Train: Loss=0.0950 Batch_id=48 Accuracy=97.81: 100%|██████████| 49/49 [00:08<00:00,  5.95it/s]\n"
          ]
        },
        {
          "output_type": "stream",
          "name": "stdout",
          "text": [
            "Validation set: Average loss: 0.0457, Accuracy: 9857/10000 (98.57%)\n",
            "Epoch 9\n"
          ]
        },
        {
          "output_type": "stream",
          "name": "stderr",
          "text": [
            "Train: Loss=0.0705 Batch_id=48 Accuracy=97.93: 100%|██████████| 49/49 [00:08<00:00,  5.51it/s]\n"
          ]
        },
        {
          "output_type": "stream",
          "name": "stdout",
          "text": [
            "Validation set: Average loss: 0.0480, Accuracy: 9848/10000 (98.48%)\n",
            "Epoch 10\n"
          ]
        },
        {
          "output_type": "stream",
          "name": "stderr",
          "text": [
            "Train: Loss=0.0729 Batch_id=48 Accuracy=98.01: 100%|██████████| 49/49 [00:09<00:00,  5.37it/s]\n"
          ]
        },
        {
          "output_type": "stream",
          "name": "stdout",
          "text": [
            "Validation set: Average loss: 0.0432, Accuracy: 9871/10000 (98.71%)\n",
            "Epoch 11\n"
          ]
        },
        {
          "output_type": "stream",
          "name": "stderr",
          "text": [
            "Train: Loss=0.0411 Batch_id=48 Accuracy=98.25: 100%|██████████| 49/49 [00:09<00:00,  5.34it/s]\n"
          ]
        },
        {
          "output_type": "stream",
          "name": "stdout",
          "text": [
            "Validation set: Average loss: 0.0361, Accuracy: 9880/10000 (98.80%)\n",
            "Epoch 12\n"
          ]
        },
        {
          "output_type": "stream",
          "name": "stderr",
          "text": [
            "Train: Loss=0.0404 Batch_id=48 Accuracy=98.35: 100%|██████████| 49/49 [00:09<00:00,  5.30it/s]\n"
          ]
        },
        {
          "output_type": "stream",
          "name": "stdout",
          "text": [
            "Validation set: Average loss: 0.0359, Accuracy: 9880/10000 (98.80%)\n",
            "Epoch 13\n"
          ]
        },
        {
          "output_type": "stream",
          "name": "stderr",
          "text": [
            "Train: Loss=0.0585 Batch_id=48 Accuracy=98.32: 100%|██████████| 49/49 [00:08<00:00,  5.46it/s]\n"
          ]
        },
        {
          "output_type": "stream",
          "name": "stdout",
          "text": [
            "Validation set: Average loss: 0.0354, Accuracy: 9880/10000 (98.80%)\n",
            "Epoch 14\n"
          ]
        },
        {
          "output_type": "stream",
          "name": "stderr",
          "text": [
            "Train: Loss=0.0754 Batch_id=48 Accuracy=98.36: 100%|██████████| 49/49 [00:08<00:00,  5.97it/s]\n"
          ]
        },
        {
          "output_type": "stream",
          "name": "stdout",
          "text": [
            "Validation set: Average loss: 0.0348, Accuracy: 9890/10000 (98.90%)\n",
            "Epoch 15\n"
          ]
        },
        {
          "output_type": "stream",
          "name": "stderr",
          "text": [
            "Train: Loss=0.0507 Batch_id=48 Accuracy=98.32: 100%|██████████| 49/49 [00:08<00:00,  5.84it/s]\n"
          ]
        },
        {
          "output_type": "stream",
          "name": "stdout",
          "text": [
            "Validation set: Average loss: 0.0345, Accuracy: 9885/10000 (98.85%)\n",
            "Epoch 16\n"
          ]
        },
        {
          "output_type": "stream",
          "name": "stderr",
          "text": [
            "Train: Loss=0.0648 Batch_id=48 Accuracy=98.39: 100%|██████████| 49/49 [00:09<00:00,  5.30it/s]\n"
          ]
        },
        {
          "output_type": "stream",
          "name": "stdout",
          "text": [
            "Validation set: Average loss: 0.0343, Accuracy: 9892/10000 (98.92%)\n",
            "Epoch 17\n"
          ]
        },
        {
          "output_type": "stream",
          "name": "stderr",
          "text": [
            "Train: Loss=0.0413 Batch_id=48 Accuracy=98.40: 100%|██████████| 49/49 [00:09<00:00,  5.34it/s]\n"
          ]
        },
        {
          "output_type": "stream",
          "name": "stdout",
          "text": [
            "Validation set: Average loss: 0.0340, Accuracy: 9886/10000 (98.86%)\n",
            "Epoch 18\n"
          ]
        },
        {
          "output_type": "stream",
          "name": "stderr",
          "text": [
            "Train: Loss=0.0524 Batch_id=48 Accuracy=98.34: 100%|██████████| 49/49 [00:09<00:00,  5.33it/s]\n"
          ]
        },
        {
          "output_type": "stream",
          "name": "stdout",
          "text": [
            "Validation set: Average loss: 0.0340, Accuracy: 9887/10000 (98.87%)\n",
            "Epoch 19\n"
          ]
        },
        {
          "output_type": "stream",
          "name": "stderr",
          "text": [
            "Train: Loss=0.0539 Batch_id=48 Accuracy=98.41: 100%|██████████| 49/49 [00:09<00:00,  5.28it/s]\n"
          ]
        },
        {
          "output_type": "stream",
          "name": "stdout",
          "text": [
            "Validation set: Average loss: 0.0343, Accuracy: 9887/10000 (98.87%)\n",
            "Epoch 20\n"
          ]
        },
        {
          "output_type": "stream",
          "name": "stderr",
          "text": [
            "Train: Loss=0.0583 Batch_id=48 Accuracy=98.43: 100%|██████████| 49/49 [00:08<00:00,  5.79it/s]\n"
          ]
        },
        {
          "output_type": "stream",
          "name": "stdout",
          "text": [
            "Validation set: Average loss: 0.0336, Accuracy: 9890/10000 (98.90%)\n",
            "Test set: Average loss: 0.0267, Accuracy: 9915/10000 (99.15%)\n"
          ]
        },
        {
          "output_type": "execute_result",
          "data": {
            "text/plain": [
              "(0.026685087203979493, 99.15)"
            ]
          },
          "metadata": {},
          "execution_count": 80
        }
      ],
      "source": [
        "# Setup\n",
        "device = torch.device('cuda' if torch.cuda.is_available() else 'cpu')\n",
        "model = Net(dropout_p = 0.3).to(device)\n",
        "criterion = nn.CrossEntropyLoss(reduction='none')\n",
        "optimizer = optim.Adam(model.parameters(), lr=0.001)\n",
        "#optimizer = optim.SGD(model.parameters(), lr=0.001 , momentum=0.9)\n",
        "scheduler = optim.lr_scheduler.StepLR(optimizer, step_size=10, gamma=0.1)\n",
        "num_epoch = 20\n",
        "# Training loop for 10 epochs\n",
        "for epoch in range(1, num_epoch+1):\n",
        "    print(f'Epoch {epoch}')\n",
        "    train(model, device, train_loader, optimizer, criterion)\n",
        "    # Validate after each epoch\n",
        "    evaluate(model, device, val_loader, criterion, set_name=\"Validation\", losses=validation_losses, accuracies=validation_acc)\n",
        "    scheduler.step()\n",
        "# Test at the end\n",
        "evaluate(model, device, test_loader, criterion, set_name=\"Test\", losses=test_losses, accuracies=test_acc)"
      ]
    },
    {
      "cell_type": "markdown",
      "id": "72abc083",
      "metadata": {
        "id": "72abc083"
      },
      "source": [
        "# Test Results"
      ]
    },
    {
      "cell_type": "code",
      "execution_count": 30,
      "id": "44b120e0",
      "metadata": {
        "id": "44b120e0",
        "outputId": "52f3e670-e589-403f-a8bb-d69e526742c5",
        "colab": {
          "base_uri": "https://localhost:8080/",
          "height": 870
        }
      },
      "outputs": [
        {
          "output_type": "execute_result",
          "data": {
            "text/plain": [
              "Text(0.5, 1.0, 'Validation Accuracy')"
            ]
          },
          "metadata": {},
          "execution_count": 30
        },
        {
          "output_type": "display_data",
          "data": {
            "text/plain": [
              "<Figure size 1500x1000 with 4 Axes>"
            ],
            "image/png": "[encoded data removed]"
          },
          "metadata": {}
        }
      ],
      "source": [
        "fig, axs = plt.subplots(2,2,figsize=(15,10))\n",
        "axs[0, 0].plot(train_losses)\n",
        "axs[0, 0].set_title(\"Training Loss\")\n",
        "axs[1, 0].plot(train_acc)\n",
        "axs[1, 0].set_title(\"Training Accuracy\")\n",
        "axs[0, 1].plot(validation_losses)\n",
        "axs[0, 1].set_title(\"Validation Loss\")\n",
        "axs[1, 1].plot(validation_acc)\n",
        "axs[1, 1].set_title(\"Validation Accuracy\")\n"
      ]
    },
    {
      "cell_type": "code",
      "execution_count": 67,
      "id": "8c17ccfa",
      "metadata": {
        "colab": {
          "base_uri": "https://localhost:8080/"
        },
        "id": "8c17ccfa",
        "outputId": "8a5b43c2-c36f-424b-85fd-9f3692ac2560"
      },
      "outputs": [
        {
          "output_type": "stream",
          "name": "stdout",
          "text": [
            "----------------------------------------------------------------\n",
            "        Layer (type)               Output Shape         Param #\n",
            "================================================================\n",
            "            Conv2d-1           [-1, 28, 28, 28]             280\n",
            "       BatchNorm2d-2           [-1, 28, 28, 28]              56\n",
            "            Conv2d-3           [-1, 28, 28, 28]           7,084\n",
            "       BatchNorm2d-4           [-1, 28, 28, 28]              56\n",
            "           Dropout-5           [-1, 28, 14, 14]               0\n",
            "            Conv2d-6           [-1, 16, 14, 14]           4,048\n",
            "       BatchNorm2d-7           [-1, 16, 14, 14]              32\n",
            "            Conv2d-8           [-1, 16, 14, 14]           2,320\n",
            "       BatchNorm2d-9           [-1, 16, 14, 14]              32\n",
            "          Dropout-10             [-1, 16, 7, 7]               0\n",
            "           Conv2d-11              [-1, 8, 7, 7]           1,160\n",
            "      BatchNorm2d-12              [-1, 8, 7, 7]              16\n",
            "           Conv2d-13              [-1, 8, 7, 7]             584\n",
            "      BatchNorm2d-14              [-1, 8, 7, 7]              16\n",
            "          Dropout-15              [-1, 8, 7, 7]               0\n",
            "           Linear-16                   [-1, 10]           3,930\n",
            "================================================================\n",
            "Total params: 19,614\n",
            "Trainable params: 19,614\n",
            "Non-trainable params: 0\n",
            "----------------------------------------------------------------\n",
            "Input size (MB): 0.00\n",
            "Forward/backward pass size (MB): 0.83\n",
            "Params size (MB): 0.07\n",
            "Estimated Total Size (MB): 0.91\n",
            "----------------------------------------------------------------\n"
          ]
        }
      ],
      "source": [
        "\n",
        "use_cuda = torch.cuda.is_available()\n",
        "device = torch.device(\"cuda\" if use_cuda else \"cpu\")\n",
        "model = Net().to(device)\n",
        "summary(model, input_size=(1, 28, 28))"
      ]
    },
    {
      "cell_type": "markdown",
      "id": "191fdfd5",
      "metadata": {
        "id": "191fdfd5"
      },
      "source": [
        "# Save and Visualize Model"
      ]
    },
    {
      "cell_type": "code",
      "execution_count": 32,
      "id": "474c561c",
      "metadata": {
        "id": "474c561c"
      },
      "outputs": [],
      "source": [
        "torch.save(model, \"model.pt\") ## does not include details of activation functions"
      ]
    },
    {
      "cell_type": "code",
      "execution_count": null,
      "id": "83cfc1e4",
      "metadata": {
        "id": "83cfc1e4",
        "outputId": "2391cda4-fbda-4df7-d3e3-2cdbae9fe7bb"
      },
      "outputs": [
        {
          "name": "stderr",
          "output_type": "stream",
          "text": [
            "/tmp/ipython-input-3254252982.py:7: DeprecationWarning: You are using the legacy TorchScript-based ONNX export. Starting in PyTorch 2.9, the new torch.export-based ONNX exporter will be the default. To switch now, set dynamo=True in torch.onnx.export. This new exporter supports features like exporting LLMs with DynamicCache. We encourage you to try it and share feedback to help improve the experience. Learn more about the new export logic: https://pytorch.org/docs/stable/onnx_dynamo.html. For exporting control flow: https://pytorch.org/tutorials/beginner/onnx/export_control_flow_model_to_onnx_tutorial.html.\n",
            "  torch.onnx.export(model, dummy_input, \"model.onnx\",\n"
          ]
        }
      ],
      "source": [
        "!pip install onnx\n",
        "device = torch.device(\"cuda\" if use_cuda else \"cpu\")\n",
        "\n",
        "# Create dummy input with the same shape as your input\n",
        "dummy_input = torch.randn(1, 1, 28, 28).to(device)  # Batch x Channels x Height x Width\n",
        "\n",
        "# Export the model\n",
        "torch.onnx.export(model, dummy_input, \"model.onnx\",\n",
        "                  input_names=['input'],\n",
        "                  output_names=['output'],\n",
        "                  dynamic_axes={'input': {0: 'batch_size'}, 'output': {0: 'batch_size'}},\n",
        "                  opset_version=11)"
      ]
    },
    {
      "cell_type": "code",
      "execution_count": 81,
      "id": "202abc10",
      "metadata": {
        "colab": {
          "base_uri": "https://localhost:8080/"
        },
        "id": "202abc10",
        "outputId": "775a8715-c7f1-4896-f3f6-f0b7acf37993"
      },
      "outputs": [
        {
          "output_type": "execute_result",
          "data": {
            "text/plain": [
              "Net(\n",
              "  (conv1): Conv2d(1, 28, kernel_size=(3, 3), stride=(1, 1), padding=(1, 1))\n",
              "  (bn1): BatchNorm2d(28, eps=1e-05, momentum=0.1, affine=True, track_running_stats=True)\n",
              "  (conv2): Conv2d(28, 28, kernel_size=(3, 3), stride=(1, 1), padding=(1, 1))\n",
              "  (bn2): BatchNorm2d(28, eps=1e-05, momentum=0.1, affine=True, track_running_stats=True)\n",
              "  (conv3): Conv2d(28, 16, kernel_size=(3, 3), stride=(1, 1), padding=(1, 1))\n",
              "  (bn3): BatchNorm2d(16, eps=1e-05, momentum=0.1, affine=True, track_running_stats=True)\n",
              "  (conv4): Conv2d(16, 16, kernel_size=(3, 3), stride=(1, 1), padding=(1, 1))\n",
              "  (bn4): BatchNorm2d(16, eps=1e-05, momentum=0.1, affine=True, track_running_stats=True)\n",
              "  (conv5): Conv2d(16, 8, kernel_size=(3, 3), stride=(1, 1), padding=(1, 1))\n",
              "  (bn5): BatchNorm2d(8, eps=1e-05, momentum=0.1, affine=True, track_running_stats=True)\n",
              "  (conv6): Conv2d(8, 8, kernel_size=(3, 3), stride=(1, 1), padding=(1, 1))\n",
              "  (bn6): BatchNorm2d(8, eps=1e-05, momentum=0.1, affine=True, track_running_stats=True)\n",
              "  (dropout): Dropout(p=0.3, inplace=False)\n",
              "  (fc1): Linear(in_features=392, out_features=10, bias=True)\n",
              ")"
            ]
          },
          "metadata": {},
          "execution_count": 81
        }
      ],
      "source": [
        "model"
      ]
    },
    {
      "cell_type": "code",
      "execution_count": null,
      "id": "343b7e70",
      "metadata": {
        "id": "343b7e70",
        "outputId": "e50cc24a-58b7-4784-ce9e-7ea877e6656e"
      },
      "outputs": [
        {
          "name": "stdout",
          "output_type": "stream",
          "text": [
            "Collecting onnx\n",
            "  Downloading onnx-1.19.0-cp312-cp312-manylinux2014_x86_64.manylinux_2_17_x86_64.whl.metadata (7.0 kB)\n",
            "Requirement already satisfied: numpy>=1.22 in /usr/local/lib/python3.12/dist-packages (from onnx) (2.0.2)\n",
            "Requirement already satisfied: protobuf>=4.25.1 in /usr/local/lib/python3.12/dist-packages (from onnx) (5.29.5)\n",
            "Requirement already satisfied: typing_extensions>=4.7.1 in /usr/local/lib/python3.12/dist-packages (from onnx) (4.15.0)\n",
            "Requirement already satisfied: ml_dtypes in /usr/local/lib/python3.12/dist-packages (from onnx) (0.5.3)\n",
            "Downloading onnx-1.19.0-cp312-cp312-manylinux2014_x86_64.manylinux_2_17_x86_64.whl (18.2 MB)\n",
            "\u001b[2K   \u001b[90m━━━━━━━━━━━━━━━━━━━━━━━━━━━━━━━━━━━━━━━━\u001b[0m \u001b[32m18.2/18.2 MB\u001b[0m \u001b[31m62.4 MB/s\u001b[0m eta \u001b[36m0:00:00\u001b[0m\n",
            "\u001b[?25hInstalling collected packages: onnx\n",
            "Successfully installed onnx-1.19.0\n"
          ]
        }
      ],
      "source": [
        "!pip install onnx"
      ]
    }
  ],
  "metadata": {
    "language_info": {
      "name": "python"
    },
    "colab": {
      "provenance": [],
      "gpuType": "T4",
      "include_colab_link": true
    },
    "accelerator": "GPU",
    "kernelspec": {
      "name": "python3",
      "display_name": "Python 3"
    }
  },
  "nbformat": 4,
  "nbformat_minor": 5
}